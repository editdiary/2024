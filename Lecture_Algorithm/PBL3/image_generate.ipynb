{
 "cells": [
  {
   "cell_type": "code",
   "execution_count": 1,
   "metadata": {},
   "outputs": [],
   "source": [
    "from keras.preprocessing.image import ImageDataGenerator, img_to_array, load_img\n",
    "import os, sys"
   ]
  },
  {
   "cell_type": "code",
   "execution_count": 3,
   "metadata": {},
   "outputs": [],
   "source": [
    "# dataset 경로 지정\n",
    "input_dir = os.path.join(os.getcwd(), 'dataset', 'trainset')\n",
    "output_dir = os.path.join(os.getcwd(), 'augmented_trainset')"
   ]
  },
  {
   "cell_type": "code",
   "execution_count": 4,
   "metadata": {},
   "outputs": [],
   "source": [
    "os.makedirs(output_dir, exist_ok=True)  # exist_ok=True: 이미 디렉토리가 존재해도 에러 발생 안함"
   ]
  },
  {
   "cell_type": "code",
   "execution_count": 5,
   "metadata": {},
   "outputs": [],
   "source": [
    "# Define data augmentation parameters\n",
    "datagen = ImageDataGenerator(\n",
    "    rotation_range=15,  # Image rotation range\n",
    "    width_shift_range=0.1,  # Shift along width\n",
    "    height_shift_range=0.1,  # Shift along height\n",
    "    shear_range=0.1,  # Shear intensity\n",
    "    zoom_range=[0.9, 1.1],  # Zoom in/out\n",
    "    horizontal_flip=True,  # Horizontal flip\n",
    "    brightness_range=[0.9, 1.1],  # Brightness adjustment\n",
    "    fill_mode='nearest'  # Fill pixels\n",
    ")"
   ]
  },
  {
   "cell_type": "code",
   "execution_count": 6,
   "metadata": {},
   "outputs": [],
   "source": [
    "def save_augmented_images(input_dir, output_dir, num_augmented_images=5):\n",
    "    total_processed = 0\n",
    "    total_augmented = 0\n",
    "\n",
    "    for label in os.listdir(input_dir):\n",
    "        folder_path = os.path.join(input_dir, label)\n",
    "\n",
    "        output_path = os.path.join(output_dir, label)\n",
    "        os.makedirs(output_path, exist_ok=True)\n",
    "\n",
    "        for filename in os.listdir(folder_path):\n",
    "            img_path = os.path.join(folder_path, filename)\n",
    "\n",
    "            try:\n",
    "                img = load_img(img_path)  # Load image\n",
    "                x = img_to_array(img)  # Convert image to numpy array\n",
    "                x = x.reshape((1,) + x.shape)  # Reshape array to (1, height, width, channels)\n",
    "\n",
    "                # Generate and save augmented images\n",
    "                i = 0\n",
    "\n",
    "                for batch in datagen.flow(x, batch_size=1, save_to_dir=output_path, save_prefix='aug', save_format='jpg'):\n",
    "                    i += 1\n",
    "                    if i >= num_augmented_images:\n",
    "                        break  # Generate `num_augmented_images` for each original image\n",
    "\n",
    "                total_processed += 1\n",
    "                total_augmented += i\n",
    "\n",
    "            except Exception as e:\n",
    "                print(f\"Error processing file {img_path}: {e}\")\n",
    "\n",
    "    print(f\"Total processed images: {total_processed}\")\n",
    "    print(f\"Total augmented images: {total_augmented}\")"
   ]
  },
  {
   "cell_type": "code",
   "execution_count": 7,
   "metadata": {},
   "outputs": [
    {
     "name": "stdout",
     "output_type": "stream",
     "text": [
      "Total processed images: 9990\n",
      "Total augmented images: 29970\n"
     ]
    }
   ],
   "source": [
    "# Augment and save images\n",
    "save_augmented_images(input_dir, output_dir, num_augmented_images=4)"
   ]
  }
 ],
 "metadata": {
  "kernelspec": {
   "display_name": "torch",
   "language": "python",
   "name": "python3"
  },
  "language_info": {
   "codemirror_mode": {
    "name": "ipython",
    "version": 3
   },
   "file_extension": ".py",
   "mimetype": "text/x-python",
   "name": "python",
   "nbconvert_exporter": "python",
   "pygments_lexer": "ipython3",
   "version": "3.8.18"
  }
 },
 "nbformat": 4,
 "nbformat_minor": 2
}
