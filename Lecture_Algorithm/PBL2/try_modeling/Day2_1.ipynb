{
 "cells": [
  {
   "cell_type": "markdown",
   "metadata": {},
   "source": [
    "# Practice3 (test_submission1_4, 2_4.csv)\n",
    "> Public Score\n",
    "> - test_submission1_3: 25136.09206\n",
    "> - test_submission2_3: 28583.13469"
   ]
  },
  {
   "cell_type": "code",
   "execution_count": 311,
   "metadata": {},
   "outputs": [],
   "source": [
    "import sys, os\n",
    "\n",
    "import numpy as np\n",
    "import pandas as pd\n",
    "import matplotlib.pyplot as plt\n",
    "import seaborn as sns\n",
    "\n",
    "# column 보기 30개로 설정\n",
    "pd.set_option('display.max_columns', 30)"
   ]
  },
  {
   "cell_type": "code",
   "execution_count": 312,
   "metadata": {},
   "outputs": [],
   "source": [
    "# 데이터 경로 설정\n",
    "file_path = os.path.join(\"c:\\\\Users\\\\prohe\\\\OneDrive\\\\바탕 화면\\\\알고리즘PBL2\\\\\", 'data')\n",
    "train_origin = pd.read_csv(file_path+'\\dataset.csv')\n",
    "test_origin = pd.read_csv(file_path+'\\problem.csv')"
   ]
  },
  {
   "cell_type": "code",
   "execution_count": 313,
   "metadata": {},
   "outputs": [
    {
     "data": {
      "text/plain": [
       "((1340, 24), (130, 23))"
      ]
     },
     "execution_count": 313,
     "metadata": {},
     "output_type": "execute_result"
    }
   ],
   "source": [
    "train_origin.shape, test_origin.shape"
   ]
  },
  {
   "cell_type": "code",
   "execution_count": 314,
   "metadata": {},
   "outputs": [],
   "source": [
    "# 전처리를 위한 원본 데이터 복사\n",
    "train = train_origin.copy()\n",
    "test = test_origin.copy()"
   ]
  },
  {
   "cell_type": "code",
   "execution_count": 315,
   "metadata": {},
   "outputs": [],
   "source": [
    "# 메모리를 효율적으로 사용하기 위한 downcast 함수 정의\n",
    "def downcast(df, verbose=True):     # verbose 옵션 추가: (True)인 경우 몇 퍼센트 압축됐는지 출력\n",
    "    start_mem = df.memory_usage().sum() / 1024**2   # 초기 메모리 사용량\n",
    "    for col in df.columns:\n",
    "        dtype_name = df[col].dtype.name\n",
    "        if dtype_name == 'object':\n",
    "            pass\n",
    "        elif dtype_name == 'bool':\n",
    "            df[col] = df[col].astype('int8')\n",
    "        elif dtype_name.startswith('int') or (df[col].round() == df[col]).all():\n",
    "            df[col] = pd.to_numeric(df[col], downcast='integer')\n",
    "        else:\n",
    "            df[col] = pd.to_numeric(df[col], downcast='float')\n",
    "    end_mem = df.memory_usage().sum() / 1024**2\n",
    "\n",
    "    if verbose:\n",
    "        print(f'{(100*(start_mem - end_mem) / start_mem):.1f}% 압축됨')\n",
    "\n",
    "    return df"
   ]
  },
  {
   "cell_type": "code",
   "execution_count": 316,
   "metadata": {},
   "outputs": [
    {
     "name": "stdout",
     "output_type": "stream",
     "text": [
      "67.2% 압축됨\n",
      "68.7% 압축됨\n"
     ]
    },
    {
     "data": {
      "text/html": [
       "<div>\n",
       "<style scoped>\n",
       "    .dataframe tbody tr th:only-of-type {\n",
       "        vertical-align: middle;\n",
       "    }\n",
       "\n",
       "    .dataframe tbody tr th {\n",
       "        vertical-align: top;\n",
       "    }\n",
       "\n",
       "    .dataframe thead th {\n",
       "        text-align: right;\n",
       "    }\n",
       "</style>\n",
       "<table border=\"1\" class=\"dataframe\">\n",
       "  <thead>\n",
       "    <tr style=\"text-align: right;\">\n",
       "      <th></th>\n",
       "      <th>Id</th>\n",
       "      <th>LotArea</th>\n",
       "      <th>Street</th>\n",
       "      <th>LotConfig</th>\n",
       "      <th>OverallQual</th>\n",
       "      <th>OverallCond</th>\n",
       "      <th>YearBuilt</th>\n",
       "      <th>YearRemodAdd</th>\n",
       "      <th>TotalBsmtSF</th>\n",
       "      <th>1stFlrSF</th>\n",
       "      <th>2ndFlrSF</th>\n",
       "      <th>GrLivArea</th>\n",
       "      <th>FullBath</th>\n",
       "      <th>HalfBath</th>\n",
       "      <th>BedroomAbvGr</th>\n",
       "      <th>KitchenAbvGr</th>\n",
       "      <th>TotRmsAbvGrd</th>\n",
       "      <th>Fireplaces</th>\n",
       "      <th>GarageType</th>\n",
       "      <th>GarageYrBlt</th>\n",
       "      <th>GarageCars</th>\n",
       "      <th>GarageArea</th>\n",
       "      <th>YrSold</th>\n",
       "    </tr>\n",
       "  </thead>\n",
       "  <tbody>\n",
       "    <tr>\n",
       "      <th>0</th>\n",
       "      <td>1341</td>\n",
       "      <td>11200</td>\n",
       "      <td>Pave</td>\n",
       "      <td>Inside</td>\n",
       "      <td>5</td>\n",
       "      <td>5</td>\n",
       "      <td>1965</td>\n",
       "      <td>1965</td>\n",
       "      <td>1040</td>\n",
       "      <td>1040</td>\n",
       "      <td>0</td>\n",
       "      <td>1040</td>\n",
       "      <td>1</td>\n",
       "      <td>0</td>\n",
       "      <td>3</td>\n",
       "      <td>1</td>\n",
       "      <td>5</td>\n",
       "      <td>0</td>\n",
       "      <td>Detchd</td>\n",
       "      <td>1965</td>\n",
       "      <td>1</td>\n",
       "      <td>384</td>\n",
       "      <td>2008</td>\n",
       "    </tr>\n",
       "    <tr>\n",
       "      <th>1</th>\n",
       "      <td>1342</td>\n",
       "      <td>7200</td>\n",
       "      <td>Pave</td>\n",
       "      <td>Corner</td>\n",
       "      <td>5</td>\n",
       "      <td>7</td>\n",
       "      <td>1951</td>\n",
       "      <td>2000</td>\n",
       "      <td>900</td>\n",
       "      <td>900</td>\n",
       "      <td>0</td>\n",
       "      <td>900</td>\n",
       "      <td>1</td>\n",
       "      <td>0</td>\n",
       "      <td>3</td>\n",
       "      <td>1</td>\n",
       "      <td>5</td>\n",
       "      <td>0</td>\n",
       "      <td>Detchd</td>\n",
       "      <td>2005</td>\n",
       "      <td>2</td>\n",
       "      <td>576</td>\n",
       "      <td>2010</td>\n",
       "    </tr>\n",
       "    <tr>\n",
       "      <th>2</th>\n",
       "      <td>1343</td>\n",
       "      <td>16905</td>\n",
       "      <td>Pave</td>\n",
       "      <td>Inside</td>\n",
       "      <td>5</td>\n",
       "      <td>6</td>\n",
       "      <td>1959</td>\n",
       "      <td>1959</td>\n",
       "      <td>1350</td>\n",
       "      <td>1328</td>\n",
       "      <td>0</td>\n",
       "      <td>1328</td>\n",
       "      <td>1</td>\n",
       "      <td>1</td>\n",
       "      <td>2</td>\n",
       "      <td>1</td>\n",
       "      <td>5</td>\n",
       "      <td>2</td>\n",
       "      <td>Attchd</td>\n",
       "      <td>1959</td>\n",
       "      <td>1</td>\n",
       "      <td>308</td>\n",
       "      <td>2007</td>\n",
       "    </tr>\n",
       "    <tr>\n",
       "      <th>3</th>\n",
       "      <td>1344</td>\n",
       "      <td>9180</td>\n",
       "      <td>Pave</td>\n",
       "      <td>CulDSac</td>\n",
       "      <td>5</td>\n",
       "      <td>7</td>\n",
       "      <td>1983</td>\n",
       "      <td>1983</td>\n",
       "      <td>840</td>\n",
       "      <td>884</td>\n",
       "      <td>0</td>\n",
       "      <td>884</td>\n",
       "      <td>1</td>\n",
       "      <td>0</td>\n",
       "      <td>2</td>\n",
       "      <td>1</td>\n",
       "      <td>5</td>\n",
       "      <td>0</td>\n",
       "      <td>Attchd</td>\n",
       "      <td>1983</td>\n",
       "      <td>2</td>\n",
       "      <td>504</td>\n",
       "      <td>2007</td>\n",
       "    </tr>\n",
       "    <tr>\n",
       "      <th>4</th>\n",
       "      <td>1345</td>\n",
       "      <td>7200</td>\n",
       "      <td>Pave</td>\n",
       "      <td>Inside</td>\n",
       "      <td>5</td>\n",
       "      <td>7</td>\n",
       "      <td>1920</td>\n",
       "      <td>1996</td>\n",
       "      <td>530</td>\n",
       "      <td>581</td>\n",
       "      <td>530</td>\n",
       "      <td>1111</td>\n",
       "      <td>1</td>\n",
       "      <td>0</td>\n",
       "      <td>3</td>\n",
       "      <td>1</td>\n",
       "      <td>6</td>\n",
       "      <td>0</td>\n",
       "      <td>Detchd</td>\n",
       "      <td>1935</td>\n",
       "      <td>1</td>\n",
       "      <td>288</td>\n",
       "      <td>2007</td>\n",
       "    </tr>\n",
       "    <tr>\n",
       "      <th>...</th>\n",
       "      <td>...</td>\n",
       "      <td>...</td>\n",
       "      <td>...</td>\n",
       "      <td>...</td>\n",
       "      <td>...</td>\n",
       "      <td>...</td>\n",
       "      <td>...</td>\n",
       "      <td>...</td>\n",
       "      <td>...</td>\n",
       "      <td>...</td>\n",
       "      <td>...</td>\n",
       "      <td>...</td>\n",
       "      <td>...</td>\n",
       "      <td>...</td>\n",
       "      <td>...</td>\n",
       "      <td>...</td>\n",
       "      <td>...</td>\n",
       "      <td>...</td>\n",
       "      <td>...</td>\n",
       "      <td>...</td>\n",
       "      <td>...</td>\n",
       "      <td>...</td>\n",
       "      <td>...</td>\n",
       "    </tr>\n",
       "    <tr>\n",
       "      <th>125</th>\n",
       "      <td>1466</td>\n",
       "      <td>11478</td>\n",
       "      <td>Pave</td>\n",
       "      <td>Inside</td>\n",
       "      <td>8</td>\n",
       "      <td>5</td>\n",
       "      <td>2007</td>\n",
       "      <td>2008</td>\n",
       "      <td>1704</td>\n",
       "      <td>1704</td>\n",
       "      <td>0</td>\n",
       "      <td>1704</td>\n",
       "      <td>2</td>\n",
       "      <td>0</td>\n",
       "      <td>3</td>\n",
       "      <td>1</td>\n",
       "      <td>7</td>\n",
       "      <td>1</td>\n",
       "      <td>Attchd</td>\n",
       "      <td>2008</td>\n",
       "      <td>3</td>\n",
       "      <td>772</td>\n",
       "      <td>2010</td>\n",
       "    </tr>\n",
       "    <tr>\n",
       "      <th>126</th>\n",
       "      <td>1467</td>\n",
       "      <td>16321</td>\n",
       "      <td>Pave</td>\n",
       "      <td>CulDSac</td>\n",
       "      <td>5</td>\n",
       "      <td>6</td>\n",
       "      <td>1957</td>\n",
       "      <td>1997</td>\n",
       "      <td>1484</td>\n",
       "      <td>1600</td>\n",
       "      <td>0</td>\n",
       "      <td>1600</td>\n",
       "      <td>1</td>\n",
       "      <td>0</td>\n",
       "      <td>2</td>\n",
       "      <td>1</td>\n",
       "      <td>6</td>\n",
       "      <td>2</td>\n",
       "      <td>Attchd</td>\n",
       "      <td>1957</td>\n",
       "      <td>1</td>\n",
       "      <td>319</td>\n",
       "      <td>2006</td>\n",
       "    </tr>\n",
       "    <tr>\n",
       "      <th>127</th>\n",
       "      <td>1468</td>\n",
       "      <td>6324</td>\n",
       "      <td>Pave</td>\n",
       "      <td>Inside</td>\n",
       "      <td>4</td>\n",
       "      <td>6</td>\n",
       "      <td>1927</td>\n",
       "      <td>1950</td>\n",
       "      <td>520</td>\n",
       "      <td>520</td>\n",
       "      <td>0</td>\n",
       "      <td>520</td>\n",
       "      <td>1</td>\n",
       "      <td>0</td>\n",
       "      <td>1</td>\n",
       "      <td>1</td>\n",
       "      <td>4</td>\n",
       "      <td>0</td>\n",
       "      <td>Detchd</td>\n",
       "      <td>1920</td>\n",
       "      <td>1</td>\n",
       "      <td>240</td>\n",
       "      <td>2008</td>\n",
       "    </tr>\n",
       "    <tr>\n",
       "      <th>128</th>\n",
       "      <td>1469</td>\n",
       "      <td>8500</td>\n",
       "      <td>Pave</td>\n",
       "      <td>Inside</td>\n",
       "      <td>4</td>\n",
       "      <td>4</td>\n",
       "      <td>1920</td>\n",
       "      <td>1950</td>\n",
       "      <td>649</td>\n",
       "      <td>649</td>\n",
       "      <td>668</td>\n",
       "      <td>1317</td>\n",
       "      <td>1</td>\n",
       "      <td>0</td>\n",
       "      <td>3</td>\n",
       "      <td>1</td>\n",
       "      <td>6</td>\n",
       "      <td>0</td>\n",
       "      <td>Detchd</td>\n",
       "      <td>1920</td>\n",
       "      <td>1</td>\n",
       "      <td>250</td>\n",
       "      <td>2008</td>\n",
       "    </tr>\n",
       "    <tr>\n",
       "      <th>129</th>\n",
       "      <td>1470</td>\n",
       "      <td>8544</td>\n",
       "      <td>Pave</td>\n",
       "      <td>CulDSac</td>\n",
       "      <td>5</td>\n",
       "      <td>6</td>\n",
       "      <td>1966</td>\n",
       "      <td>2006</td>\n",
       "      <td>1228</td>\n",
       "      <td>1228</td>\n",
       "      <td>0</td>\n",
       "      <td>1228</td>\n",
       "      <td>1</td>\n",
       "      <td>1</td>\n",
       "      <td>3</td>\n",
       "      <td>1</td>\n",
       "      <td>6</td>\n",
       "      <td>0</td>\n",
       "      <td>Attchd</td>\n",
       "      <td>1966</td>\n",
       "      <td>1</td>\n",
       "      <td>271</td>\n",
       "      <td>2008</td>\n",
       "    </tr>\n",
       "  </tbody>\n",
       "</table>\n",
       "<p>130 rows × 23 columns</p>\n",
       "</div>"
      ],
      "text/plain": [
       "       Id  LotArea Street LotConfig  OverallQual  OverallCond  YearBuilt  \\\n",
       "0    1341    11200   Pave    Inside            5            5       1965   \n",
       "1    1342     7200   Pave    Corner            5            7       1951   \n",
       "2    1343    16905   Pave    Inside            5            6       1959   \n",
       "3    1344     9180   Pave   CulDSac            5            7       1983   \n",
       "4    1345     7200   Pave    Inside            5            7       1920   \n",
       "..    ...      ...    ...       ...          ...          ...        ...   \n",
       "125  1466    11478   Pave    Inside            8            5       2007   \n",
       "126  1467    16321   Pave   CulDSac            5            6       1957   \n",
       "127  1468     6324   Pave    Inside            4            6       1927   \n",
       "128  1469     8500   Pave    Inside            4            4       1920   \n",
       "129  1470     8544   Pave   CulDSac            5            6       1966   \n",
       "\n",
       "     YearRemodAdd  TotalBsmtSF  1stFlrSF  2ndFlrSF  GrLivArea  FullBath  \\\n",
       "0            1965         1040      1040         0       1040         1   \n",
       "1            2000          900       900         0        900         1   \n",
       "2            1959         1350      1328         0       1328         1   \n",
       "3            1983          840       884         0        884         1   \n",
       "4            1996          530       581       530       1111         1   \n",
       "..            ...          ...       ...       ...        ...       ...   \n",
       "125          2008         1704      1704         0       1704         2   \n",
       "126          1997         1484      1600         0       1600         1   \n",
       "127          1950          520       520         0        520         1   \n",
       "128          1950          649       649       668       1317         1   \n",
       "129          2006         1228      1228         0       1228         1   \n",
       "\n",
       "     HalfBath  BedroomAbvGr  KitchenAbvGr  TotRmsAbvGrd  Fireplaces  \\\n",
       "0           0             3             1             5           0   \n",
       "1           0             3             1             5           0   \n",
       "2           1             2             1             5           2   \n",
       "3           0             2             1             5           0   \n",
       "4           0             3             1             6           0   \n",
       "..        ...           ...           ...           ...         ...   \n",
       "125         0             3             1             7           1   \n",
       "126         0             2             1             6           2   \n",
       "127         0             1             1             4           0   \n",
       "128         0             3             1             6           0   \n",
       "129         1             3             1             6           0   \n",
       "\n",
       "    GarageType  GarageYrBlt  GarageCars  GarageArea  YrSold  \n",
       "0       Detchd         1965           1         384    2008  \n",
       "1       Detchd         2005           2         576    2010  \n",
       "2       Attchd         1959           1         308    2007  \n",
       "3       Attchd         1983           2         504    2007  \n",
       "4       Detchd         1935           1         288    2007  \n",
       "..         ...          ...         ...         ...     ...  \n",
       "125     Attchd         2008           3         772    2010  \n",
       "126     Attchd         1957           1         319    2006  \n",
       "127     Detchd         1920           1         240    2008  \n",
       "128     Detchd         1920           1         250    2008  \n",
       "129     Attchd         1966           1         271    2008  \n",
       "\n",
       "[130 rows x 23 columns]"
      ]
     },
     "execution_count": 316,
     "metadata": {},
     "output_type": "execute_result"
    }
   ],
   "source": [
    "downcast(train)\n",
    "downcast(test)"
   ]
  },
  {
   "cell_type": "code",
   "execution_count": 317,
   "metadata": {},
   "outputs": [
    {
     "data": {
      "text/html": [
       "<div>\n",
       "<style scoped>\n",
       "    .dataframe tbody tr th:only-of-type {\n",
       "        vertical-align: middle;\n",
       "    }\n",
       "\n",
       "    .dataframe tbody tr th {\n",
       "        vertical-align: top;\n",
       "    }\n",
       "\n",
       "    .dataframe thead th {\n",
       "        text-align: right;\n",
       "    }\n",
       "</style>\n",
       "<table border=\"1\" class=\"dataframe\">\n",
       "  <thead>\n",
       "    <tr style=\"text-align: right;\">\n",
       "      <th></th>\n",
       "      <th>Id</th>\n",
       "      <th>LotArea</th>\n",
       "      <th>Street</th>\n",
       "      <th>LotConfig</th>\n",
       "      <th>OverallQual</th>\n",
       "      <th>OverallCond</th>\n",
       "      <th>YearBuilt</th>\n",
       "      <th>YearRemodAdd</th>\n",
       "      <th>TotalBsmtSF</th>\n",
       "      <th>1stFlrSF</th>\n",
       "      <th>2ndFlrSF</th>\n",
       "      <th>GrLivArea</th>\n",
       "      <th>FullBath</th>\n",
       "      <th>HalfBath</th>\n",
       "      <th>BedroomAbvGr</th>\n",
       "      <th>KitchenAbvGr</th>\n",
       "      <th>TotRmsAbvGrd</th>\n",
       "      <th>Fireplaces</th>\n",
       "      <th>GarageType</th>\n",
       "      <th>GarageYrBlt</th>\n",
       "      <th>GarageCars</th>\n",
       "      <th>GarageArea</th>\n",
       "      <th>YrSold</th>\n",
       "      <th>SalePrice</th>\n",
       "    </tr>\n",
       "  </thead>\n",
       "  <tbody>\n",
       "    <tr>\n",
       "      <th>0</th>\n",
       "      <td>1</td>\n",
       "      <td>8450</td>\n",
       "      <td>Pave</td>\n",
       "      <td>Inside</td>\n",
       "      <td>7</td>\n",
       "      <td>5</td>\n",
       "      <td>2003</td>\n",
       "      <td>2003</td>\n",
       "      <td>856</td>\n",
       "      <td>856</td>\n",
       "      <td>854</td>\n",
       "      <td>1710</td>\n",
       "      <td>2</td>\n",
       "      <td>1</td>\n",
       "      <td>3</td>\n",
       "      <td>1</td>\n",
       "      <td>8</td>\n",
       "      <td>0</td>\n",
       "      <td>Attchd</td>\n",
       "      <td>2003.0</td>\n",
       "      <td>2</td>\n",
       "      <td>548</td>\n",
       "      <td>2008</td>\n",
       "      <td>208500</td>\n",
       "    </tr>\n",
       "    <tr>\n",
       "      <th>1</th>\n",
       "      <td>2</td>\n",
       "      <td>9600</td>\n",
       "      <td>Pave</td>\n",
       "      <td>FR2</td>\n",
       "      <td>6</td>\n",
       "      <td>8</td>\n",
       "      <td>1976</td>\n",
       "      <td>1976</td>\n",
       "      <td>1262</td>\n",
       "      <td>1262</td>\n",
       "      <td>0</td>\n",
       "      <td>1262</td>\n",
       "      <td>2</td>\n",
       "      <td>0</td>\n",
       "      <td>3</td>\n",
       "      <td>1</td>\n",
       "      <td>6</td>\n",
       "      <td>1</td>\n",
       "      <td>Attchd</td>\n",
       "      <td>1976.0</td>\n",
       "      <td>2</td>\n",
       "      <td>460</td>\n",
       "      <td>2007</td>\n",
       "      <td>181500</td>\n",
       "    </tr>\n",
       "    <tr>\n",
       "      <th>2</th>\n",
       "      <td>3</td>\n",
       "      <td>11250</td>\n",
       "      <td>Pave</td>\n",
       "      <td>Inside</td>\n",
       "      <td>7</td>\n",
       "      <td>5</td>\n",
       "      <td>2001</td>\n",
       "      <td>2002</td>\n",
       "      <td>920</td>\n",
       "      <td>920</td>\n",
       "      <td>866</td>\n",
       "      <td>1786</td>\n",
       "      <td>2</td>\n",
       "      <td>1</td>\n",
       "      <td>3</td>\n",
       "      <td>1</td>\n",
       "      <td>6</td>\n",
       "      <td>1</td>\n",
       "      <td>Attchd</td>\n",
       "      <td>2001.0</td>\n",
       "      <td>2</td>\n",
       "      <td>608</td>\n",
       "      <td>2008</td>\n",
       "      <td>223500</td>\n",
       "    </tr>\n",
       "    <tr>\n",
       "      <th>3</th>\n",
       "      <td>4</td>\n",
       "      <td>9550</td>\n",
       "      <td>Pave</td>\n",
       "      <td>Corner</td>\n",
       "      <td>7</td>\n",
       "      <td>5</td>\n",
       "      <td>1915</td>\n",
       "      <td>1970</td>\n",
       "      <td>756</td>\n",
       "      <td>961</td>\n",
       "      <td>756</td>\n",
       "      <td>1717</td>\n",
       "      <td>1</td>\n",
       "      <td>0</td>\n",
       "      <td>3</td>\n",
       "      <td>1</td>\n",
       "      <td>7</td>\n",
       "      <td>1</td>\n",
       "      <td>Detchd</td>\n",
       "      <td>1998.0</td>\n",
       "      <td>3</td>\n",
       "      <td>642</td>\n",
       "      <td>2006</td>\n",
       "      <td>140000</td>\n",
       "    </tr>\n",
       "    <tr>\n",
       "      <th>4</th>\n",
       "      <td>5</td>\n",
       "      <td>14260</td>\n",
       "      <td>Pave</td>\n",
       "      <td>FR2</td>\n",
       "      <td>8</td>\n",
       "      <td>5</td>\n",
       "      <td>2000</td>\n",
       "      <td>2000</td>\n",
       "      <td>1145</td>\n",
       "      <td>1145</td>\n",
       "      <td>1053</td>\n",
       "      <td>2198</td>\n",
       "      <td>2</td>\n",
       "      <td>1</td>\n",
       "      <td>4</td>\n",
       "      <td>1</td>\n",
       "      <td>9</td>\n",
       "      <td>1</td>\n",
       "      <td>Attchd</td>\n",
       "      <td>2000.0</td>\n",
       "      <td>3</td>\n",
       "      <td>836</td>\n",
       "      <td>2008</td>\n",
       "      <td>250000</td>\n",
       "    </tr>\n",
       "    <tr>\n",
       "      <th>...</th>\n",
       "      <td>...</td>\n",
       "      <td>...</td>\n",
       "      <td>...</td>\n",
       "      <td>...</td>\n",
       "      <td>...</td>\n",
       "      <td>...</td>\n",
       "      <td>...</td>\n",
       "      <td>...</td>\n",
       "      <td>...</td>\n",
       "      <td>...</td>\n",
       "      <td>...</td>\n",
       "      <td>...</td>\n",
       "      <td>...</td>\n",
       "      <td>...</td>\n",
       "      <td>...</td>\n",
       "      <td>...</td>\n",
       "      <td>...</td>\n",
       "      <td>...</td>\n",
       "      <td>...</td>\n",
       "      <td>...</td>\n",
       "      <td>...</td>\n",
       "      <td>...</td>\n",
       "      <td>...</td>\n",
       "      <td>...</td>\n",
       "    </tr>\n",
       "    <tr>\n",
       "      <th>1335</th>\n",
       "      <td>1336</td>\n",
       "      <td>9042</td>\n",
       "      <td>Pave</td>\n",
       "      <td>Inside</td>\n",
       "      <td>7</td>\n",
       "      <td>9</td>\n",
       "      <td>1941</td>\n",
       "      <td>2006</td>\n",
       "      <td>1152</td>\n",
       "      <td>1188</td>\n",
       "      <td>1152</td>\n",
       "      <td>2340</td>\n",
       "      <td>2</td>\n",
       "      <td>0</td>\n",
       "      <td>4</td>\n",
       "      <td>1</td>\n",
       "      <td>9</td>\n",
       "      <td>2</td>\n",
       "      <td>Attchd</td>\n",
       "      <td>1941.0</td>\n",
       "      <td>1</td>\n",
       "      <td>252</td>\n",
       "      <td>2010</td>\n",
       "      <td>266500</td>\n",
       "    </tr>\n",
       "    <tr>\n",
       "      <th>1336</th>\n",
       "      <td>1337</td>\n",
       "      <td>9717</td>\n",
       "      <td>Pave</td>\n",
       "      <td>Inside</td>\n",
       "      <td>5</td>\n",
       "      <td>6</td>\n",
       "      <td>1950</td>\n",
       "      <td>1996</td>\n",
       "      <td>1078</td>\n",
       "      <td>1078</td>\n",
       "      <td>0</td>\n",
       "      <td>1078</td>\n",
       "      <td>1</td>\n",
       "      <td>0</td>\n",
       "      <td>2</td>\n",
       "      <td>1</td>\n",
       "      <td>5</td>\n",
       "      <td>0</td>\n",
       "      <td>Attchd</td>\n",
       "      <td>1950.0</td>\n",
       "      <td>1</td>\n",
       "      <td>240</td>\n",
       "      <td>2010</td>\n",
       "      <td>142125</td>\n",
       "    </tr>\n",
       "    <tr>\n",
       "      <th>1337</th>\n",
       "      <td>1338</td>\n",
       "      <td>9937</td>\n",
       "      <td>Pave</td>\n",
       "      <td>Inside</td>\n",
       "      <td>5</td>\n",
       "      <td>6</td>\n",
       "      <td>1965</td>\n",
       "      <td>1965</td>\n",
       "      <td>1256</td>\n",
       "      <td>1256</td>\n",
       "      <td>0</td>\n",
       "      <td>1256</td>\n",
       "      <td>1</td>\n",
       "      <td>1</td>\n",
       "      <td>3</td>\n",
       "      <td>1</td>\n",
       "      <td>6</td>\n",
       "      <td>0</td>\n",
       "      <td>Attchd</td>\n",
       "      <td>1965.0</td>\n",
       "      <td>1</td>\n",
       "      <td>276</td>\n",
       "      <td>2008</td>\n",
       "      <td>147500</td>\n",
       "    </tr>\n",
       "    <tr>\n",
       "      <th>1338</th>\n",
       "      <td>1339</td>\n",
       "      <td>9600</td>\n",
       "      <td>Pave</td>\n",
       "      <td>Inside</td>\n",
       "      <td>5</td>\n",
       "      <td>7</td>\n",
       "      <td>1940</td>\n",
       "      <td>1950</td>\n",
       "      <td>728</td>\n",
       "      <td>976</td>\n",
       "      <td>332</td>\n",
       "      <td>1308</td>\n",
       "      <td>1</td>\n",
       "      <td>1</td>\n",
       "      <td>2</td>\n",
       "      <td>1</td>\n",
       "      <td>7</td>\n",
       "      <td>2</td>\n",
       "      <td>Detchd</td>\n",
       "      <td>1940.0</td>\n",
       "      <td>1</td>\n",
       "      <td>256</td>\n",
       "      <td>2009</td>\n",
       "      <td>160000</td>\n",
       "    </tr>\n",
       "    <tr>\n",
       "      <th>1339</th>\n",
       "      <td>1340</td>\n",
       "      <td>7390</td>\n",
       "      <td>Pave</td>\n",
       "      <td>Inside</td>\n",
       "      <td>5</td>\n",
       "      <td>7</td>\n",
       "      <td>1955</td>\n",
       "      <td>1955</td>\n",
       "      <td>1098</td>\n",
       "      <td>1098</td>\n",
       "      <td>0</td>\n",
       "      <td>1098</td>\n",
       "      <td>1</td>\n",
       "      <td>0</td>\n",
       "      <td>3</td>\n",
       "      <td>1</td>\n",
       "      <td>6</td>\n",
       "      <td>0</td>\n",
       "      <td>Attchd</td>\n",
       "      <td>1955.0</td>\n",
       "      <td>1</td>\n",
       "      <td>260</td>\n",
       "      <td>2008</td>\n",
       "      <td>135000</td>\n",
       "    </tr>\n",
       "  </tbody>\n",
       "</table>\n",
       "<p>1340 rows × 24 columns</p>\n",
       "</div>"
      ],
      "text/plain": [
       "        Id  LotArea Street LotConfig  OverallQual  OverallCond  YearBuilt  \\\n",
       "0        1     8450   Pave    Inside            7            5       2003   \n",
       "1        2     9600   Pave       FR2            6            8       1976   \n",
       "2        3    11250   Pave    Inside            7            5       2001   \n",
       "3        4     9550   Pave    Corner            7            5       1915   \n",
       "4        5    14260   Pave       FR2            8            5       2000   \n",
       "...    ...      ...    ...       ...          ...          ...        ...   \n",
       "1335  1336     9042   Pave    Inside            7            9       1941   \n",
       "1336  1337     9717   Pave    Inside            5            6       1950   \n",
       "1337  1338     9937   Pave    Inside            5            6       1965   \n",
       "1338  1339     9600   Pave    Inside            5            7       1940   \n",
       "1339  1340     7390   Pave    Inside            5            7       1955   \n",
       "\n",
       "      YearRemodAdd  TotalBsmtSF  1stFlrSF  2ndFlrSF  GrLivArea  FullBath  \\\n",
       "0             2003          856       856       854       1710         2   \n",
       "1             1976         1262      1262         0       1262         2   \n",
       "2             2002          920       920       866       1786         2   \n",
       "3             1970          756       961       756       1717         1   \n",
       "4             2000         1145      1145      1053       2198         2   \n",
       "...            ...          ...       ...       ...        ...       ...   \n",
       "1335          2006         1152      1188      1152       2340         2   \n",
       "1336          1996         1078      1078         0       1078         1   \n",
       "1337          1965         1256      1256         0       1256         1   \n",
       "1338          1950          728       976       332       1308         1   \n",
       "1339          1955         1098      1098         0       1098         1   \n",
       "\n",
       "      HalfBath  BedroomAbvGr  KitchenAbvGr  TotRmsAbvGrd  Fireplaces  \\\n",
       "0            1             3             1             8           0   \n",
       "1            0             3             1             6           1   \n",
       "2            1             3             1             6           1   \n",
       "3            0             3             1             7           1   \n",
       "4            1             4             1             9           1   \n",
       "...        ...           ...           ...           ...         ...   \n",
       "1335         0             4             1             9           2   \n",
       "1336         0             2             1             5           0   \n",
       "1337         1             3             1             6           0   \n",
       "1338         1             2             1             7           2   \n",
       "1339         0             3             1             6           0   \n",
       "\n",
       "     GarageType  GarageYrBlt  GarageCars  GarageArea  YrSold  SalePrice  \n",
       "0        Attchd       2003.0           2         548    2008     208500  \n",
       "1        Attchd       1976.0           2         460    2007     181500  \n",
       "2        Attchd       2001.0           2         608    2008     223500  \n",
       "3        Detchd       1998.0           3         642    2006     140000  \n",
       "4        Attchd       2000.0           3         836    2008     250000  \n",
       "...         ...          ...         ...         ...     ...        ...  \n",
       "1335     Attchd       1941.0           1         252    2010     266500  \n",
       "1336     Attchd       1950.0           1         240    2010     142125  \n",
       "1337     Attchd       1965.0           1         276    2008     147500  \n",
       "1338     Detchd       1940.0           1         256    2009     160000  \n",
       "1339     Attchd       1955.0           1         260    2008     135000  \n",
       "\n",
       "[1340 rows x 24 columns]"
      ]
     },
     "execution_count": 317,
     "metadata": {},
     "output_type": "execute_result"
    }
   ],
   "source": [
    "train"
   ]
  },
  {
   "cell_type": "code",
   "execution_count": 318,
   "metadata": {},
   "outputs": [],
   "source": [
    "# 파생변수 생성\n",
    "train['TotalSF'] = train['TotalBsmtSF'] + train['1stFlrSF'] + train['2ndFlrSF']\n",
    "train['TotalBath'] = train['FullBath'] + (0.5 * train['HalfBath'])\n",
    "train['YrBuiltDiff'] = train['YrSold'] - train['YearBuilt']\n",
    "\n",
    "test['TotalSF'] = test['TotalBsmtSF'] + test['1stFlrSF'] + test['2ndFlrSF']\n",
    "test['TotalBath'] = test['FullBath'] + (0.5 * test['HalfBath'])\n",
    "test['YrBuiltDiff'] = test['YrSold'] - test['YearBuilt']\n",
    "\n",
    "#train['HasGarage'] = train['GarageArea'].apply(lambda x: 1 if x > 0 else 0)\n",
    "#train['Has2ndFlr'] = train['2ndFlrSF'].apply(lambda x: 1 if x > 0 else 0)  # target값과 상관관계가 크게 없다.\n",
    "#train['HasBsmt'] = train['TotalBsmtSF'].apply(lambda x: 1 if x > 0 else 0)     # target값과 상관관계가 크게 없다.(비율이 극명하게 갈림)\n",
    "#train['HasFireplace'] = train['Fireplaces'].apply(lambda x: 1 if x > 0 else 0)     # target값과 상관관계가 크게 없다."
   ]
  },
  {
   "cell_type": "code",
   "execution_count": 319,
   "metadata": {},
   "outputs": [],
   "source": [
    "remove_cols = ['Id', 'Street', 'LotConfig', 'OverallCond', 'TotalBsmtSF', '1stFlrSF',\n",
    "               '2ndFlrSF', 'GrLivArea', 'FullBath', 'HalfBath', 'GarageArea', 'YrSold']\n",
    "train.drop(remove_cols, axis=1, inplace=True)\n",
    "test.drop(remove_cols, axis=1, inplace=True)"
   ]
  },
  {
   "cell_type": "code",
   "execution_count": 320,
   "metadata": {},
   "outputs": [],
   "source": [
    "remove2 = ['GarageYrBlt', 'YearRemodAdd', 'BedroomAbvGr', 'KitchenAbvGr', 'Fireplaces', 'YearBuilt']\n",
    "train.drop(remove2, axis=1, inplace=True)\n",
    "test.drop(remove2, axis=1, inplace=True)"
   ]
  },
  {
   "cell_type": "code",
   "execution_count": 321,
   "metadata": {},
   "outputs": [],
   "source": [
    "# SalePrice 이상치 처리\n",
    "train = train[train['SalePrice'] < 700000]\n",
    "\n",
    "# TotalSF 이상치 처리\n",
    "outlier_mask = train[(train['TotalSF'] > 6000)&(train['SalePrice'] < 220000)]\n",
    "train = train.drop(outlier_mask.index).reset_index(drop=True)\n",
    "train = train[train['TotalSF'] > 500].reset_index(drop=True)\n",
    "\n",
    "# # LotArea 이상치 처리(보류)\n",
    "# train = train[train['LotArea'] < 100000].reset_index(drop=True)"
   ]
  },
  {
   "cell_type": "code",
   "execution_count": 322,
   "metadata": {},
   "outputs": [
    {
     "data": {
      "text/plain": [
       "LotArea        13.169405\n",
       "SalePrice       1.606608\n",
       "TotalSF         0.684101\n",
       "YrBuiltDiff     0.606321\n",
       "dtype: float64"
      ]
     },
     "execution_count": 322,
     "metadata": {},
     "output_type": "execute_result"
    }
   ],
   "source": [
    "# 왜도 확인\n",
    "from scipy.stats import skew\n",
    "\n",
    "numeric = ['LotArea', 'SalePrice', 'TotalSF', 'YrBuiltDiff']\n",
    "\n",
    "train[numeric].skew().sort_values(ascending=False)"
   ]
  },
  {
   "cell_type": "code",
   "execution_count": 323,
   "metadata": {},
   "outputs": [],
   "source": [
    "# 로그변환\n",
    "cols = ['LotArea', 'SalePrice', 'TotalSF']\n",
    "train[cols] = np.log1p(train[cols])\n",
    "test[['LotArea', 'TotalSF']] = np.log1p(test[['LotArea', 'TotalSF']])"
   ]
  },
  {
   "cell_type": "code",
   "execution_count": 324,
   "metadata": {},
   "outputs": [
    {
     "data": {
      "text/plain": [
       "YrBuiltDiff    0.606321\n",
       "SalePrice      0.136205\n",
       "LotArea       -0.245502\n",
       "TotalSF       -0.342632\n",
       "dtype: float64"
      ]
     },
     "execution_count": 324,
     "metadata": {},
     "output_type": "execute_result"
    }
   ],
   "source": [
    "train[numeric].skew().sort_values(ascending=False)"
   ]
  },
  {
   "cell_type": "code",
   "execution_count": 325,
   "metadata": {},
   "outputs": [
    {
     "data": {
      "image/png": "[encoded data removed]",
      "text/plain": [
       "<Figure size 1000x1000 with 4 Axes>"
      ]
     },
     "metadata": {},
     "output_type": "display_data"
    }
   ],
   "source": [
    "# 정규성 검정\n",
    "from scipy.stats import probplot\n",
    "\n",
    "fig, axes = plt.subplots(2, 2, figsize=(10, 10))\n",
    "for i, col in enumerate(numeric):\n",
    "    probplot(train[col], plot=axes[i//2, i%2])\n",
    "    axes[i//2, i%2].set_title(col)"
   ]
  },
  {
   "cell_type": "code",
   "execution_count": 326,
   "metadata": {},
   "outputs": [
    {
     "data": {
      "image/png": "[encoded data removed]",
      "text/plain": [
       "<Figure size 2000x1500 with 2 Axes>"
      ]
     },
     "metadata": {},
     "output_type": "display_data"
    }
   ],
   "source": [
    "# 상관계수 히트맵\n",
    "numeric_data = train.select_dtypes(exclude=\"object\")   # 수치형 데이터만 추출\n",
    "plt.figure(figsize=(20, 15))\n",
    "#mask = np.zeros_like(numeric_data.corr(), dtype=np.bool_)\n",
    "#mask[np.triu_indices_from(mask)] = True     # triu_indices_from: 대각선을 기준으로 위쪽 삼각형만 True로 설정\n",
    "sns.heatmap(numeric_data.corr(), annot=True, fmt='.2f', cmap='RdBu')    # cmap: 색상  # 절반만 표시하고 싶은 경우 mask=mask 옵션 추가\n",
    "plt.show()"
   ]
  },
  {
   "cell_type": "code",
   "execution_count": 327,
   "metadata": {},
   "outputs": [
    {
     "data": {
      "text/plain": [
       "((1336, 9), (130, 8))"
      ]
     },
     "execution_count": 327,
     "metadata": {},
     "output_type": "execute_result"
    }
   ],
   "source": [
    "train.shape, test.shape"
   ]
  },
  {
   "cell_type": "markdown",
   "metadata": {},
   "source": [
    "# 전처리"
   ]
  },
  {
   "cell_type": "code",
   "execution_count": 328,
   "metadata": {},
   "outputs": [],
   "source": [
    "# 결측치 처리\n",
    "train.fillna('NaN', inplace=True)"
   ]
  },
  {
   "cell_type": "code",
   "execution_count": 329,
   "metadata": {},
   "outputs": [
    {
     "data": {
      "text/plain": [
       "(0, 0)"
      ]
     },
     "execution_count": 329,
     "metadata": {},
     "output_type": "execute_result"
    }
   ],
   "source": [
    "train.isnull().sum().sum(), test.isnull().sum().sum()"
   ]
  },
  {
   "cell_type": "code",
   "execution_count": 330,
   "metadata": {},
   "outputs": [
    {
     "data": {
      "text/plain": [
       "2"
      ]
     },
     "execution_count": 330,
     "metadata": {},
     "output_type": "execute_result"
    }
   ],
   "source": [
    "# 중복데이터 확인\n",
    "train.duplicated().sum()"
   ]
  },
  {
   "cell_type": "code",
   "execution_count": 331,
   "metadata": {},
   "outputs": [],
   "source": [
    "train = train.drop_duplicates(keep='first').reset_index(drop=True)  # 중복 데이터 제거"
   ]
  },
  {
   "cell_type": "code",
   "execution_count": 332,
   "metadata": {},
   "outputs": [],
   "source": [
    "# target과 feature 분리\n",
    "X_train = train.drop(['SalePrice'], axis=1)\n",
    "y_train = train['SalePrice'].reset_index(drop=True)\n",
    "X_test = test.copy()"
   ]
  },
  {
   "cell_type": "code",
   "execution_count": 333,
   "metadata": {},
   "outputs": [],
   "source": [
    "# 전처리를 위한 데이터 병합\n",
    "all_data = pd.concat([X_train, X_test]).reset_index(drop=True)"
   ]
  },
  {
   "cell_type": "code",
   "execution_count": 334,
   "metadata": {},
   "outputs": [
    {
     "data": {
      "text/plain": [
       "(1464, 8)"
      ]
     },
     "execution_count": 334,
     "metadata": {},
     "output_type": "execute_result"
    }
   ],
   "source": [
    "all_data.shape"
   ]
  },
  {
   "cell_type": "code",
   "execution_count": 335,
   "metadata": {},
   "outputs": [],
   "source": [
    "all_data = pd.get_dummies(all_data)"
   ]
  },
  {
   "cell_type": "code",
   "execution_count": 336,
   "metadata": {},
   "outputs": [
    {
     "data": {
      "text/plain": [
       "(1464, 14)"
      ]
     },
     "execution_count": 336,
     "metadata": {},
     "output_type": "execute_result"
    }
   ],
   "source": [
    "all_data.shape"
   ]
  },
  {
   "cell_type": "code",
   "execution_count": 337,
   "metadata": {},
   "outputs": [
    {
     "data": {
      "text/plain": [
       "((1334, 14), (1334,), (130, 14))"
      ]
     },
     "execution_count": 337,
     "metadata": {},
     "output_type": "execute_result"
    }
   ],
   "source": [
    "X_train = all_data.iloc[:len(y_train), :]\n",
    "X_test = all_data.iloc[len(y_train):, :]\n",
    "X_train.shape, y_train.shape, X_test.shape"
   ]
  },
  {
   "cell_type": "markdown",
   "metadata": {},
   "source": [
    "### 모델링"
   ]
  },
  {
   "cell_type": "code",
   "execution_count": 228,
   "metadata": {},
   "outputs": [],
   "source": [
    "# 평가지표 정의\n",
    "from sklearn.model_selection import KFold, cross_val_score\n",
    "from sklearn.metrics import mean_squared_error\n",
    "\n",
    "kfolds = KFold(n_splits=10, shuffle=True, random_state=42)\n",
    "\n",
    "def rmsle(y, y_pred):\n",
    "    return np.sqrt(mean_squared_error(y, y_pred))\n",
    "\n",
    "def rmse_cv(model):    \n",
    "    rmse = np.sqrt(-cross_val_score(model, X_train.values, y_train, scoring=\"neg_mean_squared_error\", cv=kfolds))\n",
    "    return (rmse)"
   ]
  },
  {
   "cell_type": "code",
   "execution_count": 229,
   "metadata": {},
   "outputs": [],
   "source": [
    "from sklearn.linear_model import LassoCV, RidgeCV, ElasticNetCV\n",
    "from sklearn.svm import SVR\n",
    "from sklearn.kernel_ridge import KernelRidge\n",
    "from sklearn.ensemble import GradientBoostingRegressor\n",
    "from sklearn.pipeline import make_pipeline\n",
    "from sklearn.preprocessing import RobustScaler"
   ]
  },
  {
   "cell_type": "markdown",
   "metadata": {},
   "source": [
    "> 선형 모델"
   ]
  },
  {
   "cell_type": "code",
   "execution_count": 230,
   "metadata": {},
   "outputs": [
    {
     "name": "stdout",
     "output_type": "stream",
     "text": [
      "Ridge: 0.1491 (0.0169)\n",
      "\n",
      "RMSLE score on train data:\n",
      "27892.07355961312\n"
     ]
    }
   ],
   "source": [
    "# Ridge\n",
    "ridge = make_pipeline(RobustScaler(), RidgeCV(alphas=[1.78, 1.79, 1.80, 1.81, 1.82], cv=kfolds))\n",
    "\n",
    "score1 = rmse_cv(ridge)\n",
    "print(\"Ridge: {:.4f} ({:.4f})\\n\".format(score1.mean(), score1.std()), )\n",
    "\n",
    "ridge_model_full_data = ridge.fit(X_train, y_train)\n",
    "\n",
    "print('RMSLE score on train data:')\n",
    "print(rmsle(np.expm1(y_train), np.expm1(ridge_model_full_data.predict(X_train))))"
   ]
  },
  {
   "cell_type": "code",
   "execution_count": 231,
   "metadata": {},
   "outputs": [
    {
     "name": "stdout",
     "output_type": "stream",
     "text": [
      "LASSO: 0.1491 (0.0169)\n",
      "\n",
      "RMSLE score on train data:\n",
      "27854.081924062284\n"
     ]
    }
   ],
   "source": [
    "# Lasso\n",
    "lasso = make_pipeline(RobustScaler(), LassoCV(max_iter=10000000, alphas=[0.00001, 0.00002, 0.00003, 0.00004], random_state=42, cv=kfolds))\n",
    "\n",
    "score2 = rmse_cv(lasso)\n",
    "print(\"LASSO: {:.4f} ({:.4f})\\n\".format(score2.mean(), score2.std()), )\n",
    "\n",
    "lasso_model_full_data = lasso.fit(X_train, y_train)\n",
    "\n",
    "print('RMSLE score on train data:')\n",
    "print(rmsle(np.expm1(y_train), np.expm1(lasso_model_full_data.predict(X_train))))"
   ]
  },
  {
   "cell_type": "code",
   "execution_count": 232,
   "metadata": {},
   "outputs": [
    {
     "name": "stdout",
     "output_type": "stream",
     "text": [
      "elastic net: 0.1491 (0.0169)\n",
      "\n",
      "RMSLE score on train data:\n",
      "27864.25385090227\n"
     ]
    }
   ],
   "source": [
    "# ElasticNet\n",
    "elasticnet = make_pipeline(RobustScaler(), ElasticNetCV(max_iter=10000000, alphas=[0.0002, 0.00025, 0.00003], cv=kfolds, l1_ratio=[0.3, 0.4, 0.5]))\n",
    "\n",
    "score3 = rmse_cv(elasticnet)\n",
    "print(\"elastic net: {:.4f} ({:.4f})\\n\".format(score3.mean(), score3.std()), )\n",
    "\n",
    "elastic_model_full_data = elasticnet.fit(X_train, y_train)\n",
    "\n",
    "print('RMSLE score on train data:')\n",
    "print(rmsle(np.expm1(y_train), np.expm1(elastic_model_full_data.predict(X_train))))"
   ]
  },
  {
   "cell_type": "markdown",
   "metadata": {},
   "source": [
    "> 커널형 모델"
   ]
  },
  {
   "cell_type": "code",
   "execution_count": 233,
   "metadata": {},
   "outputs": [
    {
     "name": "stdout",
     "output_type": "stream",
     "text": [
      "SVR: 0.1496 (0.0177)\n",
      "\n",
      "RMSLE score on train data:\n",
      "27904.63422451511\n"
     ]
    }
   ],
   "source": [
    "# Support Vector Regressor\n",
    "svr = make_pipeline(RobustScaler(), SVR(C= 9.3, epsilon= 0.0143, gamma=0.0008,))\n",
    "\n",
    "score4 = rmse_cv(svr)\n",
    "print(\"SVR: {:.4f} ({:.4f})\\n\".format(score4.mean(), score4.std()), )\n",
    "\n",
    "svr_model_full_data = svr.fit(X_train, y_train)\n",
    "\n",
    "print('RMSLE score on train data:')\n",
    "print(rmsle(np.expm1(y_train), np.expm1(svr_model_full_data.predict(X_train))))"
   ]
  },
  {
   "cell_type": "code",
   "execution_count": 234,
   "metadata": {},
   "outputs": [
    {
     "name": "stdout",
     "output_type": "stream",
     "text": [
      "Kernel Ridge: 0.1491 (0.0168)\n",
      "\n",
      "RMSLE score on train data:\n",
      "27847.677494142154\n"
     ]
    }
   ],
   "source": [
    "# Kernel Ridge Regressor\n",
    "KRR = KernelRidge(alpha=0.001, kernel='polynomial', degree=1, coef0=2.5)\n",
    "\n",
    "score5 = rmse_cv(KRR)\n",
    "print(\"Kernel Ridge: {:.4f} ({:.4f})\\n\".format(score5.mean(), score5.std()), )\n",
    "\n",
    "KRR_model_full_data = KRR.fit(X_train, y_train)\n",
    "\n",
    "print('RMSLE score on train data:')\n",
    "print(rmsle(np.expm1(y_train), np.expm1(KRR_model_full_data.predict(X_train))))"
   ]
  },
  {
   "cell_type": "markdown",
   "metadata": {},
   "source": [
    "> 트리 계열"
   ]
  },
  {
   "cell_type": "code",
   "execution_count": 249,
   "metadata": {},
   "outputs": [
    {
     "name": "stdout",
     "output_type": "stream",
     "text": [
      "Gradient Boosting: 0.1473 (0.0172)\n",
      "\n",
      "RMSLE score on train data:\n",
      "20787.66208799746\n"
     ]
    }
   ],
   "source": [
    "# Gradient Boosting Regressor\n",
    "gbr = GradientBoostingRegressor(n_estimators=627, learning_rate=0.01, max_depth=14, max_features='sqrt', min_samples_leaf=25, min_samples_split=8, random_state =42)  \n",
    "\n",
    "score6 = rmse_cv(gbr)\n",
    "print(\"Gradient Boosting: {:.4f} ({:.4f})\\n\".format(score6.mean(), score6.std()), )\n",
    "\n",
    "gbr_model_full_data = gbr.fit(X_train, y_train)\n",
    "\n",
    "print('RMSLE score on train data:')\n",
    "print(rmsle(np.expm1(y_train), np.expm1(gbr_model_full_data.predict(X_train))))"
   ]
  },
  {
   "cell_type": "code",
   "execution_count": 256,
   "metadata": {},
   "outputs": [
    {
     "name": "stdout",
     "output_type": "stream",
     "text": [
      "Xgboost: 0.1490 (0.0177)\n",
      "\n",
      "RMSLE score on train data:\n",
      "16373.533430893047\n"
     ]
    }
   ],
   "source": [
    "# XGBoost\n",
    "from xgboost import XGBRegressor\n",
    "\n",
    "model_xgb = XGBRegressor(learning_rate=0.01,n_estimators=3460, max_depth=3, min_child_weight=0,\n",
    "                         gamma=0, subsample=0.7, colsample_bytree=0.7, nthread=-1,\n",
    "                         scale_pos_weight=1, seed=27, reg_alpha=0.00006)\n",
    "\n",
    "score7 = rmse_cv(model_xgb)\n",
    "print(\"Xgboost: {:.4f} ({:.4f})\\n\".format(score7.mean(), score7.std()), )\n",
    "\n",
    "xgb_model_full_data = model_xgb.fit(X_train, y_train)\n",
    "\n",
    "print('RMSLE score on train data:')\n",
    "print(rmsle(np.expm1(y_train), np.expm1(xgb_model_full_data.predict(X_train))))"
   ]
  },
  {
   "cell_type": "code",
   "execution_count": 345,
   "metadata": {},
   "outputs": [
    {
     "name": "stdout",
     "output_type": "stream",
     "text": [
      "Predict submission\n"
     ]
    }
   ],
   "source": [
    "# submission data 불러오기\n",
    "print('Predict submission')\n",
    "submission_origin = pd.read_csv(file_path+'\\submission.csv')\n",
    "submission = submission_origin.copy()\n",
    "\n",
    "# submission data에 예측값 넣기\n",
    "submission.iloc[:,1] = (np.expm1(xgb_model_full_data.predict(X_test)))\n",
    "submission.to_csv('Day2_xgb.csv', index=False)"
   ]
  },
  {
   "cell_type": "code",
   "execution_count": 265,
   "metadata": {},
   "outputs": [
    {
     "name": "stdout",
     "output_type": "stream",
     "text": [
      "LGBM: 0.1511 (0.0160)\n",
      "\n",
      "RMSLE score on train data:\n",
      "22650.67674038697\n"
     ]
    }
   ],
   "source": [
    "# LightGBM\n",
    "from lightgbm import LGBMRegressor\n",
    "\n",
    "model_lgb = LGBMRegressor(objective='regression', num_leaves=4, learning_rate=0.01, \n",
    "                          n_estimators=5000, max_bin=200, bagging_fraction=0.75,\n",
    "                          bagging_freq=5, bagging_seed=7, feature_fraction=0.2,\n",
    "                          feature_fraction_seed=7, verbose=-1,)\n",
    "\n",
    "score8 = rmse_cv(model_lgb)\n",
    "print(\"LGBM: {:.4f} ({:.4f})\\n\" .format(score8.mean(), score8.std()), )\n",
    "\n",
    "lgb_model_full_data = model_lgb.fit(X_train, y_train)\n",
    "\n",
    "print('RMSLE score on train data:')\n",
    "print(rmsle(np.expm1(y_train), np.expm1(lgb_model_full_data.predict(X_train))))"
   ]
  },
  {
   "cell_type": "code",
   "execution_count": 267,
   "metadata": {},
   "outputs": [],
   "source": [
    "model_performances = pd.DataFrame({\n",
    "    'Model': ['Ridge', 'Lasso', 'ElasticNet', 'SVR', 'Kernel Ridge', 'GradientBoosting', 'XGBoost', 'LightGBM'],\n",
    "    'Score': [score1.mean(), score2.mean(), score3.mean(), score4.mean(), score5.mean(), score6.mean(), score7.mean(), score8.mean()],\n",
    "    'Std': [score1.std(), score2.std(), score3.std(), score4.std(), score5.std(), score6.std(), score7.std(), score8.std()]})"
   ]
  },
  {
   "cell_type": "code",
   "execution_count": 268,
   "metadata": {},
   "outputs": [
    {
     "data": {
      "text/html": [
       "<div>\n",
       "<style scoped>\n",
       "    .dataframe tbody tr th:only-of-type {\n",
       "        vertical-align: middle;\n",
       "    }\n",
       "\n",
       "    .dataframe tbody tr th {\n",
       "        vertical-align: top;\n",
       "    }\n",
       "\n",
       "    .dataframe thead th {\n",
       "        text-align: right;\n",
       "    }\n",
       "</style>\n",
       "<table border=\"1\" class=\"dataframe\">\n",
       "  <thead>\n",
       "    <tr style=\"text-align: right;\">\n",
       "      <th></th>\n",
       "      <th>Model</th>\n",
       "      <th>Score</th>\n",
       "      <th>Std</th>\n",
       "    </tr>\n",
       "  </thead>\n",
       "  <tbody>\n",
       "    <tr>\n",
       "      <th>0</th>\n",
       "      <td>Ridge</td>\n",
       "      <td>0.149115</td>\n",
       "      <td>0.016877</td>\n",
       "    </tr>\n",
       "    <tr>\n",
       "      <th>1</th>\n",
       "      <td>Lasso</td>\n",
       "      <td>0.149112</td>\n",
       "      <td>0.016865</td>\n",
       "    </tr>\n",
       "    <tr>\n",
       "      <th>2</th>\n",
       "      <td>ElasticNet</td>\n",
       "      <td>0.149112</td>\n",
       "      <td>0.016901</td>\n",
       "    </tr>\n",
       "    <tr>\n",
       "      <th>3</th>\n",
       "      <td>SVR</td>\n",
       "      <td>0.149603</td>\n",
       "      <td>0.017686</td>\n",
       "    </tr>\n",
       "    <tr>\n",
       "      <th>4</th>\n",
       "      <td>Kernel Ridge</td>\n",
       "      <td>0.149128</td>\n",
       "      <td>0.016848</td>\n",
       "    </tr>\n",
       "    <tr>\n",
       "      <th>5</th>\n",
       "      <td>GradientBoosting</td>\n",
       "      <td>0.147338</td>\n",
       "      <td>0.017189</td>\n",
       "    </tr>\n",
       "    <tr>\n",
       "      <th>6</th>\n",
       "      <td>XGBoost</td>\n",
       "      <td>0.148981</td>\n",
       "      <td>0.017666</td>\n",
       "    </tr>\n",
       "    <tr>\n",
       "      <th>7</th>\n",
       "      <td>LightGBM</td>\n",
       "      <td>0.153795</td>\n",
       "      <td>0.017765</td>\n",
       "    </tr>\n",
       "  </tbody>\n",
       "</table>\n",
       "</div>"
      ],
      "text/plain": [
       "              Model     Score       Std\n",
       "0             Ridge  0.149115  0.016877\n",
       "1             Lasso  0.149112  0.016865\n",
       "2        ElasticNet  0.149112  0.016901\n",
       "3               SVR  0.149603  0.017686\n",
       "4      Kernel Ridge  0.149128  0.016848\n",
       "5  GradientBoosting  0.147338  0.017189\n",
       "6           XGBoost  0.148981  0.017666\n",
       "7          LightGBM  0.153795  0.017765"
      ]
     },
     "execution_count": 268,
     "metadata": {},
     "output_type": "execute_result"
    }
   ],
   "source": [
    "model_performances"
   ]
  },
  {
   "cell_type": "code",
   "execution_count": 341,
   "metadata": {},
   "outputs": [],
   "source": [
    "def blend_models_predict(X):\n",
    "    return ((0.1 * ridge_model_full_data.predict(X)) + \\\n",
    "            (0.1 * lasso_model_full_data.predict(X)) + \\\n",
    "            (0.1 * elastic_model_full_data.predict(X)) + \\\n",
    "            (0.1 * svr_model_full_data.predict(X)) + \\\n",
    "            (0.1 * KRR_model_full_data.predict(X)) + \\\n",
    "            (0.1 * gbr_model_full_data.predict(X)) + \\\n",
    "            (0.2 * xgb_model_full_data.predict(X)) + \\\n",
    "            (0.2 * lgb_model_full_data.predict(X)))"
   ]
  },
  {
   "cell_type": "code",
   "execution_count": 342,
   "metadata": {},
   "outputs": [
    {
     "name": "stdout",
     "output_type": "stream",
     "text": [
      "RMSLE score on train data:\n",
      "0.11712353084926673\n"
     ]
    }
   ],
   "source": [
    "print('RMSLE score on train data:')\n",
    "print(rmsle(y_train, blend_models_predict(X_train)))"
   ]
  },
  {
   "cell_type": "code",
   "execution_count": 343,
   "metadata": {},
   "outputs": [
    {
     "name": "stdout",
     "output_type": "stream",
     "text": [
      "RMSLE score on train data:\n",
      "21525.276270494887\n"
     ]
    }
   ],
   "source": [
    "print('RMSLE score on train data:')\n",
    "print(rmsle(np.expm1(y_train), np.expm1(blend_models_predict(X_train))))"
   ]
  },
  {
   "cell_type": "code",
   "execution_count": 344,
   "metadata": {},
   "outputs": [
    {
     "name": "stdout",
     "output_type": "stream",
     "text": [
      "Predict submission\n"
     ]
    }
   ],
   "source": [
    "# submission data 불러오기\n",
    "print('Predict submission')\n",
    "submission_origin = pd.read_csv(file_path+'\\submission.csv')\n",
    "submission = submission_origin.copy()\n",
    "\n",
    "# submission data에 예측값 넣기\n",
    "submission.iloc[:,1] = (np.expm1(blend_models_predict(X_test)))\n",
    "submission.to_csv('Day2_2.csv', index=False)"
   ]
  },
  {
   "cell_type": "code",
   "execution_count": null,
   "metadata": {},
   "outputs": [],
   "source": []
  },
  {
   "cell_type": "code",
   "execution_count": null,
   "metadata": {},
   "outputs": [],
   "source": []
  }
 ],
 "metadata": {
  "kernelspec": {
   "display_name": "py38",
   "language": "python",
   "name": "python3"
  },
  "language_info": {
   "codemirror_mode": {
    "name": "ipython",
    "version": 3
   },
   "file_extension": ".py",
   "mimetype": "text/x-python",
   "name": "python",
   "nbconvert_exporter": "python",
   "pygments_lexer": "ipython3",
   "version": "3.8.18"
  }
 },
 "nbformat": 4,
 "nbformat_minor": 2
}
