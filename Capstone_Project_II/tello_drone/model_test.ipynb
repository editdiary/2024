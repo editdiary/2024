{
 "cells": [
  {
   "cell_type": "code",
   "execution_count": 2,
   "metadata": {},
   "outputs": [],
   "source": [
    "import cv2\n",
    "import numpy as np\n",
    "from ultralytics import YOLO"
   ]
  },
  {
   "cell_type": "code",
   "execution_count": 19,
   "metadata": {},
   "outputs": [
    {
     "name": "stdout",
     "output_type": "stream",
     "text": [
      "\n",
      "0: 480x640 1 80%_maturity, 115.7ms\n",
      "Speed: 3.7ms preprocess, 115.7ms inference, 0.0ms postprocess per image at shape (1, 3, 480, 640)\n"
     ]
    }
   ],
   "source": [
    "file_path = \"test_file_path\"\n",
    "\n",
    "img = cv2.imread(file_path)\n",
    "if img is None:\n",
    "    print(f\"Error loading image: {file_path}\")\n",
    "    exit()\n",
    "\n",
    "# Load a model\n",
    "fruit_model = YOLO(\"./best.pt\")\n",
    "\n",
    "pred_results = fruit_model(img, conf=0.25)\n",
    "\n",
    "for result in pred_results:\n",
    "    boxes = result.boxes\n",
    "\n",
    "    x1, y1, x2, y2 = map(int, boxes.xyxy[0])\n",
    "    cv2.rectangle(img, (x1,y1), (x2,y2), (0,255,0), 5)\n",
    "\n",
    "    label = f\"{result.names[int(boxes.cls)]} {boxes.conf[0]:.2f}\"\n",
    "    cv2.putText(img, label, (x1,y1-10), cv2.FONT_HERSHEY_SIMPLEX, 3, (0,255,0), 5)\n",
    "\n",
    "# 원본 크기의 50%로 축소\n",
    "scale_percent = 25\n",
    "width = int(img.shape[1] * scale_percent / 100)\n",
    "height = int(img.shape[0] * scale_percent / 100)\n",
    "resized_img = cv2.resize(img, (width, height), interpolation=cv2.INTER_AREA)\n",
    "\n",
    "cv2.imshow(\"YOLO Prediction\", resized_img)\n",
    "cv2.waitKey(0)\n",
    "cv2.destroyAllWindows()"
   ]
  }
 ],
 "metadata": {
  "kernelspec": {
   "display_name": "tello",
   "language": "python",
   "name": "python3"
  },
  "language_info": {
   "codemirror_mode": {
    "name": "ipython",
    "version": 3
   },
   "file_extension": ".py",
   "mimetype": "text/x-python",
   "name": "python",
   "nbconvert_exporter": "python",
   "pygments_lexer": "ipython3",
   "version": "3.8.20"
  }
 },
 "nbformat": 4,
 "nbformat_minor": 2
}
