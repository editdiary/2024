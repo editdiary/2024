{
 "cells": [
  {
   "cell_type": "code",
   "execution_count": 1,
   "metadata": {},
   "outputs": [
    {
     "data": {
      "text/plain": [
       "'\\nread xml\\nwidth, height, class name, xmin, ymin, xmax, ymax\\n\\nmade by : ysjo\\n\\n'"
      ]
     },
     "execution_count": 1,
     "metadata": {},
     "output_type": "execute_result"
    }
   ],
   "source": [
    "import os\n",
    "import xml.etree.ElementTree as ET\n",
    "\n",
    "\"\"\"\n",
    "read xml\n",
    "width, height, class name, xmin, ymin, xmax, ymax\n",
    "\n",
    "made by : ysjo\n",
    "\n",
    "\"\"\""
   ]
  },
  {
   "cell_type": "code",
   "execution_count": 6,
   "metadata": {},
   "outputs": [],
   "source": [
    "PASCAL_Class_index = {\n",
    "    'early_fruit': 0,\n",
    "    '50%_maturity': 1,\n",
    "    '80%_maturity': 2,\n",
    "    'ignore': 3\n",
    "}\n",
    "\n",
    "XML_DIRECTORY = \"C:/Users/prohe/OneDrive/Desktop/capstone2/detection/dataset/aihub/label\"\n",
    "TXT_DIRECTORY = \"C:/Users/prohe/OneDrive/Desktop/capstone2/detection/dataset/aihub/temp\""
   ]
  },
  {
   "cell_type": "code",
   "execution_count": 7,
   "metadata": {},
   "outputs": [],
   "source": [
    "def createFolder(directory):\n",
    "    try:\n",
    "        if not os.path.exists(directory):\n",
    "            os.makedirs(directory)\n",
    "    except OSError:\n",
    "        print ('Error: Creating directory. ' +  directory)\n",
    "\n",
    "def _Write_TXT(file_name, width, height, result):\n",
    "    file_name = file_name[:-3]+\"txt\"\n",
    "    file_path = os.path.join(TXT_DIRECTORY, file_name)\n",
    "    f = open(file_path, 'w')\n",
    "    for i, data in enumerate(result):\n",
    "        data = f\"{data}\\n\"\n",
    "        data = data.replace(\",\",\"\").replace(\"[\",\"\").replace(\"]\",\"\")\n",
    "        f.write(data)\n",
    "    f.close()\n",
    "\n",
    "def Read_XML(file_path, file_name):\n",
    "    tree = ET.parse(file_path)\n",
    "    root = tree.getroot()\n",
    "    ## size inform\n",
    "    size = root.find(\"size\")\n",
    "    width = float(size.find(\"width\").text)\n",
    "    height = float(size.find(\"height\").text)\n",
    "\n",
    "    ## box inform\n",
    "    result = list()\n",
    "    for object in root.findall('object'):\n",
    "        name = object.find(\"name\").text\n",
    "        class_index = PASCAL_Class_index[name]\n",
    "        if class_index == 3:\n",
    "            continue\n",
    "        bndbox = object.find(\"bndbox\")\n",
    "        xmin = float(bndbox.find(\"xmin\").text)\n",
    "        ymin = float(bndbox.find(\"ymin\").text)\n",
    "        xmax = float(bndbox.find(\"xmax\").text)\n",
    "        ymax = float(bndbox.find(\"ymax\").text)\n",
    "        bnd_width = round((xmax-xmin)/width,6)\n",
    "        bnd_height = round((ymax-ymin)/height,6)\n",
    "        x_center = round((xmax+xmin)/2/width,6)\n",
    "        y_center = round((ymax+ymin)/2/height,6)\n",
    "        result.append([class_index, x_center, y_center, bnd_width, bnd_height])\n",
    "    _Write_TXT(file_name=file_name, width=width, height=height, result=result)\n",
    "\n",
    "def main():\n",
    "    if not os.path.isdir(XML_DIRECTORY):\n",
    "        raise Exception(\"no XML DIr\")\n",
    "    createFolder(TXT_DIRECTORY)\n",
    "    for (root, directories, files) in os.walk(XML_DIRECTORY):\n",
    "        for file in files:\n",
    "            if '.xml' in file:\n",
    "                file_path = os.path.join(root, file)\n",
    "                Read_XML(file_path, file)"
   ]
  },
  {
   "cell_type": "code",
   "execution_count": 8,
   "metadata": {},
   "outputs": [],
   "source": [
    "main()"
   ]
  }
 ],
 "metadata": {
  "kernelspec": {
   "display_name": "py38",
   "language": "python",
   "name": "python3"
  },
  "language_info": {
   "codemirror_mode": {
    "name": "ipython",
    "version": 3
   },
   "file_extension": ".py",
   "mimetype": "text/x-python",
   "name": "python",
   "nbconvert_exporter": "python",
   "pygments_lexer": "ipython3",
   "version": "3.8.19"
  }
 },
 "nbformat": 4,
 "nbformat_minor": 2
}
