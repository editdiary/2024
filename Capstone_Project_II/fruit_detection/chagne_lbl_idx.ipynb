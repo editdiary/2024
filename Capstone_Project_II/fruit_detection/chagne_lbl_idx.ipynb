{
 "cells": [
  {
   "cell_type": "code",
   "execution_count": 2,
   "metadata": {},
   "outputs": [],
   "source": [
    "import os"
   ]
  },
  {
   "cell_type": "code",
   "execution_count": 3,
   "metadata": {},
   "outputs": [],
   "source": [
    "def change_labels_index(ORIGIN_PATH, DEST_DIR):\n",
    "    for (root, directories, files) in os.walk(ORIGIN_PATH):\n",
    "        for lbl in files:\n",
    "            org_lbl = os.path.join(root, lbl)\n",
    "            dest_lbl = os.path.join(DEST_DIR, lbl)\n",
    "            with open(org_lbl, 'r') as f:\n",
    "                lines = f.readlines()\n",
    "            with open(dest_lbl, 'w') as f:\n",
    "                for line in lines:\n",
    "                    parts = line.split()\n",
    "                    class_index = int(parts[0])\n",
    "                    if class_index == 1:\n",
    "                        new_class_index = 3\n",
    "                    else:\n",
    "                        new_class_index = 10\n",
    "                    parts[0] = str(new_class_index)\n",
    "                    f.write(\" \".join(parts) + \"\\n\")\n",
    "\n",
    "ORIGIN_PATH = \"origin_label_path\"\n",
    "DEST_DIR = \"destination_label_path\"\n",
    "\n",
    "change_labels_index(ORIGIN_PATH, DEST_DIR)"
   ]
  },
  {
   "cell_type": "code",
   "execution_count": 4,
   "metadata": {},
   "outputs": [
    {
     "data": {
      "text/plain": [
       "{3: 297}"
      ]
     },
     "execution_count": 4,
     "metadata": {},
     "output_type": "execute_result"
    }
   ],
   "source": [
    "def check_lbl_lists(PATH):\n",
    "    for (root, directories, files) in os.walk(PATH):\n",
    "        class_dict = {}\n",
    "        for lbl in files:\n",
    "            txt_lbl = os.path.join(root, lbl)\n",
    "            with open(txt_lbl, 'r') as f:\n",
    "                lines = f.readlines()\n",
    "                for line in lines:\n",
    "                    parts = line.split()\n",
    "                    class_index = int(parts[0])\n",
    "                    if class_index not in class_dict:\n",
    "                        class_dict[class_index] = 1\n",
    "                    else:\n",
    "                        class_dict[class_index] += 1\n",
    "        return class_dict\n",
    "\n",
    "check_lbl_lists(DEST_DIR)"
   ]
  }
 ],
 "metadata": {
  "kernelspec": {
   "display_name": "py38",
   "language": "python",
   "name": "python3"
  },
  "language_info": {
   "codemirror_mode": {
    "name": "ipython",
    "version": 3
   },
   "file_extension": ".py",
   "mimetype": "text/x-python",
   "name": "python",
   "nbconvert_exporter": "python",
   "pygments_lexer": "ipython3",
   "version": "3.8.19"
  }
 },
 "nbformat": 4,
 "nbformat_minor": 2
}
