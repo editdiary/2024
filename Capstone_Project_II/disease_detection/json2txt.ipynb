{
 "cells": [
  {
   "cell_type": "code",
   "execution_count": 1,
   "metadata": {},
   "outputs": [],
   "source": [
    "import os\n",
    "import json\n",
    "from tqdm import tqdm\n",
    "\n",
    "def convert_json_to_txt(json_folder, output_folder):\n",
    "    # JSON 파일 목록 가져오기\n",
    "    json_files = [f for f in os.listdir(json_folder) if f.endswith('.json')]\n",
    "\n",
    "    for json_file in tqdm(json_files, desc='Converting JSON to YOLO txt'):\n",
    "        with open(os.path.join(json_folder, json_file), 'r') as f:\n",
    "            data = json.load(f)\n",
    "        \n",
    "        # 이미지 크기 가져오기\n",
    "        img_width = data['description']['width']\n",
    "        img_height = data['description']['height']\n",
    "\n",
    "        # YOLO 형식으로 변환\n",
    "        yolo_annotations = []\n",
    "        for i in range(len(data['annotations']['points'])):\n",
    "            disease_id = data['annotations']['disease']\n",
    "            if disease_id == 0:\n",
    "                continue\n",
    "            elif disease_id == 16:\n",
    "                class_id = 0\n",
    "            else:\n",
    "                class_id = 1\n",
    "            x = data['annotations']['points'][i]['xtl']\n",
    "            y = data['annotations']['points'][i]['ytl']\n",
    "            width = data['annotations']['points'][i]['xbr'] - x\n",
    "            height = data['annotations']['points'][i]['ybr'] - y\n",
    "\n",
    "            # 좌표 정규화\n",
    "            x_center = (x + width/2) / img_width\n",
    "            y_center = (y + height/2) / img_height\n",
    "            norm_width = width / img_width\n",
    "            norm_height = height / img_height\n",
    "\n",
    "            yolo_annotations.append(f\"{class_id} {x_center:.6f} {y_center:.6f} {norm_width:.6f} {norm_height:.6f}\")\n",
    "        \n",
    "        # YOLO 형식으로 저장\n",
    "        img_name = json_file.split('.')[0]\n",
    "        output_file = os.path.join(output_folder, img_name+'.txt')\n",
    "        with open(output_file, 'w') as f:\n",
    "            f.write('\\n'.join(yolo_annotations))"
   ]
  },
  {
   "cell_type": "code",
   "execution_count": 2,
   "metadata": {},
   "outputs": [
    {
     "name": "stderr",
     "output_type": "stream",
     "text": [
      "Converting JSON to YOLO txt:   0%|          | 0/1148 [00:00<?, ?it/s]"
     ]
    },
    {
     "name": "stderr",
     "output_type": "stream",
     "text": [
      "Converting JSON to YOLO txt: 100%|██████████| 1148/1148 [00:11<00:00, 103.63it/s]\n"
     ]
    }
   ],
   "source": [
    "json_folder = \"json_files_path\"\n",
    "output_folder = \"output_path\"\n",
    "convert_json_to_txt(json_folder, output_folder)"
   ]
  }
 ],
 "metadata": {
  "kernelspec": {
   "display_name": "py38",
   "language": "python",
   "name": "python3"
  },
  "language_info": {
   "codemirror_mode": {
    "name": "ipython",
    "version": 3
   },
   "file_extension": ".py",
   "mimetype": "text/x-python",
   "name": "python",
   "nbconvert_exporter": "python",
   "pygments_lexer": "ipython3",
   "version": "3.8.19"
  }
 },
 "nbformat": 4,
 "nbformat_minor": 2
}
