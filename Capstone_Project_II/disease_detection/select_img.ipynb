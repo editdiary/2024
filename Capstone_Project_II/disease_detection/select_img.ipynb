{
 "cells": [
  {
   "cell_type": "code",
   "execution_count": 1,
   "metadata": {},
   "outputs": [],
   "source": [
    "import os\n",
    "import json\n",
    "import shutil\n",
    "import pandas as pd\n",
    "from tqdm import tqdm"
   ]
  },
  {
   "cell_type": "code",
   "execution_count": 21,
   "metadata": {},
   "outputs": [],
   "source": [
    "def _extract_info(file_path):\n",
    "    with open(file_path, 'r') as file:\n",
    "        json_data = json.load(file)\n",
    "\n",
    "        # 필요한 정보만 추출\n",
    "        extracted_info = dict(\n",
    "            filename = json_data['description']['image'],\n",
    "            height = json_data['description']['height'],\n",
    "            width = json_data['description']['width'],\n",
    "            diseaseID = json_data['annotations']['disease'],\n",
    "            risk = json_data['annotations']['risk'],\n",
    "            classID = json_data['annotations']['area'],\n",
    "            xtl = json_data['annotations']['points'][0]['xtl'],\n",
    "            ytl = json_data['annotations']['points'][0]['ytl'],\n",
    "            xbr = json_data['annotations']['points'][0]['xbr'],\n",
    "            ybr = json_data['annotations']['points'][0]['ybr']\n",
    "        )\n",
    "    return extracted_info\n",
    "\n",
    "def make_df(folder_path):\n",
    "    # 결과를 저장할 리스트\n",
    "    data_lists = []\n",
    "\n",
    "    # 전체 JSON 파일 수 계산\n",
    "    total_files = sum([len(files) for r, d, files in os.walk(folder_path) if any(f.endswith('.json') for f in files)])\n",
    "\n",
    "    # tqdm으로 진행 상황 표시\n",
    "    with tqdm(total=total_files, desc='Pricessing JSON files') as pbar:\n",
    "        for root, _, files in os.walk(folder_path):\n",
    "            for filename in files:\n",
    "                if filename.endswith('.json'):\n",
    "                    file_path = os.path.join(root, filename)\n",
    "\n",
    "                    extracted_info = _extract_info(file_path)\n",
    "\n",
    "                    data_lists.append(extracted_info)\n",
    "\n",
    "                    # 진행 상황 업데이트\n",
    "                    pbar.update(1)\n",
    "\n",
    "    return pd.DataFrame(data_lists)"
   ]
  },
  {
   "cell_type": "code",
   "execution_count": 22,
   "metadata": {},
   "outputs": [
    {
     "name": "stderr",
     "output_type": "stream",
     "text": [
      "Pricessing JSON files: 100%|██████████| 19328/19328 [08:51<00:00, 36.38it/s]\n",
      "Pricessing JSON files: 100%|██████████| 851/851 [00:25<00:00, 32.96it/s]\n",
      "Pricessing JSON files: 100%|██████████| 336/336 [00:10<00:00, 33.46it/s]\n",
      "Pricessing JSON files: 100%|██████████| 106/106 [00:03<00:00, 33.69it/s]\n"
     ]
    }
   ],
   "source": [
    "t_path1 = \"training_normal_label_path\"\n",
    "t_path2 = \"training_disease_label_path\"\n",
    "v_path1 = \"validation_normal_label_path\"\n",
    "v_path2 = \"validation_disease_label_path\"\n",
    "\n",
    "t_df1 = make_df(t_path1)\n",
    "t_df2 = make_df(t_path2)\n",
    "v_df1 = make_df(v_path1)\n",
    "v_df2 = make_df(v_path2)"
   ]
  },
  {
   "cell_type": "code",
   "execution_count": 29,
   "metadata": {},
   "outputs": [],
   "source": [
    "t_df1.to_csv('t_정상.csv', index=False)\n",
    "t_df2.to_csv('t_질병.csv', index=False)\n",
    "v_df1.to_csv('v_정상.csv', index=False)\n",
    "v_df2.to_csv('v_질병.csv', index=False)"
   ]
  },
  {
   "cell_type": "markdown",
   "metadata": {},
   "source": [
    "# 데이터 복사"
   ]
  },
  {
   "cell_type": "code",
   "execution_count": 2,
   "metadata": {},
   "outputs": [],
   "source": [
    "# csv 파일 읽기\n",
    "t_normal = pd.read_csv('t_정상.csv')\n",
    "t_disease = pd.read_csv('t_질병.csv')\n",
    "v_normal = pd.read_csv('v_정상.csv')\n",
    "v_disease = pd.read_csv('v_질병.csv')"
   ]
  },
  {
   "cell_type": "code",
   "execution_count": 4,
   "metadata": {},
   "outputs": [],
   "source": [
    "t_normal_sample = t_normal[t_normal['classID']==3].sample(n=191, random_state=42)\n",
    "t_normal_sample.reset_index(inplace=True, drop=True)"
   ]
  },
  {
   "cell_type": "code",
   "execution_count": 5,
   "metadata": {},
   "outputs": [
    {
     "data": {
      "text/html": [
       "<div>\n",
       "<style scoped>\n",
       "    .dataframe tbody tr th:only-of-type {\n",
       "        vertical-align: middle;\n",
       "    }\n",
       "\n",
       "    .dataframe tbody tr th {\n",
       "        vertical-align: top;\n",
       "    }\n",
       "\n",
       "    .dataframe thead th {\n",
       "        text-align: right;\n",
       "    }\n",
       "</style>\n",
       "<table border=\"1\" class=\"dataframe\">\n",
       "  <thead>\n",
       "    <tr style=\"text-align: right;\">\n",
       "      <th></th>\n",
       "      <th>filename</th>\n",
       "      <th>height</th>\n",
       "      <th>width</th>\n",
       "      <th>diseaseID</th>\n",
       "      <th>risk</th>\n",
       "      <th>classID</th>\n",
       "      <th>xtl</th>\n",
       "      <th>ytl</th>\n",
       "      <th>xbr</th>\n",
       "      <th>ybr</th>\n",
       "    </tr>\n",
       "  </thead>\n",
       "  <tbody>\n",
       "    <tr>\n",
       "      <th>0</th>\n",
       "      <td>V006_77_0_00_10_03_12_0_c14_20201224_0054_S01_...</td>\n",
       "      <td>4032</td>\n",
       "      <td>1816</td>\n",
       "      <td>0</td>\n",
       "      <td>0</td>\n",
       "      <td>3</td>\n",
       "      <td>535</td>\n",
       "      <td>1681</td>\n",
       "      <td>1403</td>\n",
       "      <td>2666</td>\n",
       "    </tr>\n",
       "    <tr>\n",
       "      <th>1</th>\n",
       "      <td>V006_77_0_00_10_03_11_0_c14_20201229_0018_S01_...</td>\n",
       "      <td>4032</td>\n",
       "      <td>1816</td>\n",
       "      <td>0</td>\n",
       "      <td>0</td>\n",
       "      <td>3</td>\n",
       "      <td>221</td>\n",
       "      <td>1791</td>\n",
       "      <td>1607</td>\n",
       "      <td>3018</td>\n",
       "    </tr>\n",
       "    <tr>\n",
       "      <th>2</th>\n",
       "      <td>V006_77_0_00_10_03_12_0_c22_20201222_0080_S01_...</td>\n",
       "      <td>4032</td>\n",
       "      <td>3024</td>\n",
       "      <td>0</td>\n",
       "      <td>0</td>\n",
       "      <td>3</td>\n",
       "      <td>1077</td>\n",
       "      <td>1360</td>\n",
       "      <td>2632</td>\n",
       "      <td>3367</td>\n",
       "    </tr>\n",
       "    <tr>\n",
       "      <th>3</th>\n",
       "      <td>V006_77_0_00_10_03_12_0_c18_20201221_0046_S01_...</td>\n",
       "      <td>4032</td>\n",
       "      <td>3024</td>\n",
       "      <td>0</td>\n",
       "      <td>0</td>\n",
       "      <td>3</td>\n",
       "      <td>308</td>\n",
       "      <td>705</td>\n",
       "      <td>2252</td>\n",
       "      <td>2968</td>\n",
       "    </tr>\n",
       "    <tr>\n",
       "      <th>4</th>\n",
       "      <td>V006_77_0_00_10_03_11_0_c39_20201209_0158_S01_...</td>\n",
       "      <td>4032</td>\n",
       "      <td>3024</td>\n",
       "      <td>0</td>\n",
       "      <td>0</td>\n",
       "      <td>3</td>\n",
       "      <td>341</td>\n",
       "      <td>1441</td>\n",
       "      <td>2535</td>\n",
       "      <td>3732</td>\n",
       "    </tr>\n",
       "    <tr>\n",
       "      <th>...</th>\n",
       "      <td>...</td>\n",
       "      <td>...</td>\n",
       "      <td>...</td>\n",
       "      <td>...</td>\n",
       "      <td>...</td>\n",
       "      <td>...</td>\n",
       "      <td>...</td>\n",
       "      <td>...</td>\n",
       "      <td>...</td>\n",
       "      <td>...</td>\n",
       "    </tr>\n",
       "    <tr>\n",
       "      <th>186</th>\n",
       "      <td>V006_77_0_00_10_03_11_0_b08_20201210_0361_S01_...</td>\n",
       "      <td>4000</td>\n",
       "      <td>1800</td>\n",
       "      <td>0</td>\n",
       "      <td>0</td>\n",
       "      <td>3</td>\n",
       "      <td>71</td>\n",
       "      <td>614</td>\n",
       "      <td>1631</td>\n",
       "      <td>2386</td>\n",
       "    </tr>\n",
       "    <tr>\n",
       "      <th>187</th>\n",
       "      <td>V006_77_0_00_10_03_12_0_c34_20201222_0479_S01_...</td>\n",
       "      <td>4032</td>\n",
       "      <td>3024</td>\n",
       "      <td>0</td>\n",
       "      <td>0</td>\n",
       "      <td>3</td>\n",
       "      <td>623</td>\n",
       "      <td>1331</td>\n",
       "      <td>2618</td>\n",
       "      <td>3308</td>\n",
       "    </tr>\n",
       "    <tr>\n",
       "      <th>188</th>\n",
       "      <td>V006_77_0_00_10_03_12_0_c22_20201222_0073_S01_...</td>\n",
       "      <td>3024</td>\n",
       "      <td>4032</td>\n",
       "      <td>0</td>\n",
       "      <td>0</td>\n",
       "      <td>3</td>\n",
       "      <td>1335</td>\n",
       "      <td>831</td>\n",
       "      <td>3434</td>\n",
       "      <td>2671</td>\n",
       "    </tr>\n",
       "    <tr>\n",
       "      <th>189</th>\n",
       "      <td>V006_77_0_00_10_03_12_0_b09_20201222_0582_S01_...</td>\n",
       "      <td>1860</td>\n",
       "      <td>4032</td>\n",
       "      <td>0</td>\n",
       "      <td>0</td>\n",
       "      <td>3</td>\n",
       "      <td>1171</td>\n",
       "      <td>160</td>\n",
       "      <td>2720</td>\n",
       "      <td>1489</td>\n",
       "    </tr>\n",
       "    <tr>\n",
       "      <th>190</th>\n",
       "      <td>V006_77_0_00_10_03_11_0_c36_20201210_0327_S01_...</td>\n",
       "      <td>3024</td>\n",
       "      <td>4032</td>\n",
       "      <td>0</td>\n",
       "      <td>0</td>\n",
       "      <td>3</td>\n",
       "      <td>1186</td>\n",
       "      <td>353</td>\n",
       "      <td>3416</td>\n",
       "      <td>2468</td>\n",
       "    </tr>\n",
       "  </tbody>\n",
       "</table>\n",
       "<p>191 rows × 10 columns</p>\n",
       "</div>"
      ],
      "text/plain": [
       "                                              filename  height  width  \\\n",
       "0    V006_77_0_00_10_03_12_0_c14_20201224_0054_S01_...    4032   1816   \n",
       "1    V006_77_0_00_10_03_11_0_c14_20201229_0018_S01_...    4032   1816   \n",
       "2    V006_77_0_00_10_03_12_0_c22_20201222_0080_S01_...    4032   3024   \n",
       "3    V006_77_0_00_10_03_12_0_c18_20201221_0046_S01_...    4032   3024   \n",
       "4    V006_77_0_00_10_03_11_0_c39_20201209_0158_S01_...    4032   3024   \n",
       "..                                                 ...     ...    ...   \n",
       "186  V006_77_0_00_10_03_11_0_b08_20201210_0361_S01_...    4000   1800   \n",
       "187  V006_77_0_00_10_03_12_0_c34_20201222_0479_S01_...    4032   3024   \n",
       "188  V006_77_0_00_10_03_12_0_c22_20201222_0073_S01_...    3024   4032   \n",
       "189  V006_77_0_00_10_03_12_0_b09_20201222_0582_S01_...    1860   4032   \n",
       "190  V006_77_0_00_10_03_11_0_c36_20201210_0327_S01_...    3024   4032   \n",
       "\n",
       "     diseaseID  risk  classID   xtl   ytl   xbr   ybr  \n",
       "0            0     0        3   535  1681  1403  2666  \n",
       "1            0     0        3   221  1791  1607  3018  \n",
       "2            0     0        3  1077  1360  2632  3367  \n",
       "3            0     0        3   308   705  2252  2968  \n",
       "4            0     0        3   341  1441  2535  3732  \n",
       "..         ...   ...      ...   ...   ...   ...   ...  \n",
       "186          0     0        3    71   614  1631  2386  \n",
       "187          0     0        3   623  1331  2618  3308  \n",
       "188          0     0        3  1335   831  3434  2671  \n",
       "189          0     0        3  1171   160  2720  1489  \n",
       "190          0     0        3  1186   353  3416  2468  \n",
       "\n",
       "[191 rows x 10 columns]"
      ]
     },
     "execution_count": 5,
     "metadata": {},
     "output_type": "execute_result"
    }
   ],
   "source": [
    "t_normal_sample"
   ]
  },
  {
   "cell_type": "code",
   "execution_count": 6,
   "metadata": {},
   "outputs": [
    {
     "name": "stderr",
     "output_type": "stream",
     "text": [
      "Copying images: 100%|██████████| 191/191 [01:37<00:00,  1.96image/s]"
     ]
    },
    {
     "name": "stdout",
     "output_type": "stream",
     "text": [
      "정상 image 복사 완료\n"
     ]
    },
    {
     "name": "stderr",
     "output_type": "stream",
     "text": [
      "\n"
     ]
    }
   ],
   "source": [
    "src_path = \"source_images_path\"\n",
    "dst_path = \"destination_forder_path\"\n",
    "\n",
    "# 복사할 이미지 목록 생성\n",
    "images_to_copy = t_normal_sample['filename'].tolist()\n",
    "\n",
    "# 해당되는 이미지만 복사\n",
    "for img in tqdm(images_to_copy, desc=\"Copying images\", unit=\"image\"):\n",
    "    src_file = os.path.join(src_path, img)\n",
    "    dst_file = os.path.join(dst_path, img)\n",
    "\n",
    "    # 파일이 존재하는지 확인\n",
    "    if os.path.exists(src_file):\n",
    "        shutil.copy(src_file, dst_file)\n",
    "    else:\n",
    "        print(f\"Warning: File not found - {src_file}\")\n",
    "\n",
    "print(\"정상 image 복사 완료\")"
   ]
  },
  {
   "cell_type": "code",
   "execution_count": 7,
   "metadata": {},
   "outputs": [
    {
     "name": "stderr",
     "output_type": "stream",
     "text": [
      "Copying images: 100%|██████████| 191/191 [00:33<00:00,  5.62image/s]"
     ]
    },
    {
     "name": "stdout",
     "output_type": "stream",
     "text": [
      "정상 label 복사 완료\n"
     ]
    },
    {
     "name": "stderr",
     "output_type": "stream",
     "text": [
      "\n"
     ]
    }
   ],
   "source": [
    "src_path = \"source_images_path\"\n",
    "dst_path = \"destination_forder_path\"\n",
    "\n",
    "# 복사할 이미지 목록 생성\n",
    "labels_to_copy = [filename + '.json' for filename in t_normal_sample['filename'].tolist()]\n",
    "\n",
    "# 해당되는 이미지만 복사\n",
    "for lbl in tqdm(labels_to_copy, desc=\"Copying images\", unit=\"image\"):\n",
    "    src_file = os.path.join(src_path, lbl)\n",
    "    dst_file = os.path.join(dst_path, lbl)\n",
    "\n",
    "    # 파일이 존재하는지 확인\n",
    "    if os.path.exists(src_file):\n",
    "        shutil.copy(src_file, dst_file)\n",
    "    else:\n",
    "        print(f\"Warning: File not found - {src_file}\")\n",
    "\n",
    "print(\"정상 label 복사 완료\")"
   ]
  }
 ],
 "metadata": {
  "kernelspec": {
   "display_name": "CV",
   "language": "python",
   "name": "python3"
  },
  "language_info": {
   "codemirror_mode": {
    "name": "ipython",
    "version": 3
   },
   "file_extension": ".py",
   "mimetype": "text/x-python",
   "name": "python",
   "nbconvert_exporter": "python",
   "pygments_lexer": "ipython3",
   "version": "3.7.12"
  }
 },
 "nbformat": 4,
 "nbformat_minor": 2
}
