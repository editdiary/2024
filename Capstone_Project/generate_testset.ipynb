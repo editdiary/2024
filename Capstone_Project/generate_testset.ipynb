{
 "cells": [
  {
   "cell_type": "code",
   "execution_count": 5,
   "metadata": {},
   "outputs": [],
   "source": [
    "import os\n",
    "import shutil\n",
    "from sklearn.model_selection import train_test_split"
   ]
  },
  {
   "cell_type": "code",
   "execution_count": 8,
   "metadata": {},
   "outputs": [],
   "source": [
    "def create_dir_structure(base_dir, labels):\n",
    "    for label in labels:\n",
    "        os.makedirs(os.path.join(base_dir, label), exist_ok=True)\n",
    "\n",
    "valid_dir = 'data/jpg_data/valid'\n",
    "test_dir = 'data/jpg_data/test'\n",
    "\n",
    "# 만일 jpg_data/test 디렉토리가 없으면 생성\n",
    "if not os.path.exists(test_dir):\n",
    "    os.makedirs(test_dir)\n",
    "\n",
    "# Get all labels (folder names in valid directory)\n",
    "labels = os.listdir(valid_dir)\n",
    "create_dir_structure(test_dir, labels)\n",
    "\n",
    "# Collect image paths and labels\n",
    "image_paths = []\n",
    "image_labels = []\n",
    "for label in labels:\n",
    "    label_dir = os.path.join(valid_dir, label)\n",
    "    for img_file in os.listdir(label_dir):\n",
    "        image_paths.append(os.path.join(label_dir, img_file))\n",
    "        image_labels.append(label)\n",
    "\n",
    "# Stratified split\n",
    "valid_paths, test_paths, _, test_labels = train_test_split(\n",
    "    image_paths, image_labels, test_size=0.5, stratify=image_labels, random_state=42\n",
    ")\n",
    "\n",
    "# Move test images to the test directory\n",
    "for src, label in zip(test_paths, test_labels):\n",
    "    dest_dir = os.path.join(test_dir, label)\n",
    "    shutil.move(src, dest_dir)"
   ]
  }
 ],
 "metadata": {
  "kernelspec": {
   "display_name": "torch",
   "language": "python",
   "name": "python3"
  },
  "language_info": {
   "codemirror_mode": {
    "name": "ipython",
    "version": 3
   },
   "file_extension": ".py",
   "mimetype": "text/x-python",
   "name": "python",
   "nbconvert_exporter": "python",
   "pygments_lexer": "ipython3",
   "version": "3.8.18"
  }
 },
 "nbformat": 4,
 "nbformat_minor": 2
}
