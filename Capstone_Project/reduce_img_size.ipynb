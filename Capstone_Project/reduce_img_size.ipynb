{
 "cells": [
  {
   "cell_type": "markdown",
   "metadata": {},
   "source": [
    "# 이미지 파일의 크기(해상도) 줄이기"
   ]
  },
  {
   "cell_type": "code",
   "execution_count": 2,
   "metadata": {},
   "outputs": [],
   "source": [
    "# 필요 라이브러리 import\n",
    "import os, sys\n",
    "import pandas as pd\n",
    "import numpy as np\n",
    "\n",
    "import pathlib\n",
    "from PIL import Image"
   ]
  },
  {
   "cell_type": "code",
   "execution_count": 3,
   "metadata": {},
   "outputs": [],
   "source": [
    "# 데이터 경로 설정\n",
    "train_data_path = os.path.join(os.getcwd(), 'jpg_data', 'train')\n",
    "test_data_path = os.path.join(os.getcwd(), 'jpg_data', 'valid')"
   ]
  },
  {
   "cell_type": "code",
   "execution_count": 4,
   "metadata": {},
   "outputs": [],
   "source": [
    "# 이미지 확장자 확인\n",
    "def check_extension(data_path):\n",
    "    ext_freq = {}\n",
    "\n",
    "    for label in os.listdir(data_path):\n",
    "        folder_path = os.path.join(data_path, label)\n",
    "\n",
    "        for file_name in os.listdir(folder_path):\n",
    "            image_path = os.path.join(folder_path, file_name)\n",
    "            extension = pathlib.Path(image_path).suffix     # 파일의 확장자 확인\n",
    "            if extension not in ext_freq.keys():\n",
    "                ext_freq[extension] = 1\n",
    "            else:\n",
    "                ext_freq[extension] += 1\n",
    "    return ext_freq\n",
    "\n",
    "train_ext_freq = check_extension(train_data_path)\n",
    "test_ext_freq = check_extension(test_data_path)"
   ]
  },
  {
   "cell_type": "code",
   "execution_count": 5,
   "metadata": {},
   "outputs": [
    {
     "data": {
      "text/plain": [
       "({'.jpg': 25492}, {'.jpg': 6530})"
      ]
     },
     "execution_count": 5,
     "metadata": {},
     "output_type": "execute_result"
    }
   ],
   "source": [
    "train_ext_freq, test_ext_freq"
   ]
  },
  {
   "cell_type": "code",
   "execution_count": 9,
   "metadata": {},
   "outputs": [
    {
     "name": "stdout",
     "output_type": "stream",
     "text": [
      "All files are resized to 64x64\n",
      "All files are resized to 64x64\n"
     ]
    }
   ],
   "source": [
    "# 이미지의 Size 변경\n",
    "image_size = 64\n",
    "if not os.path.exists(f'resized_data_{image_size}'):\n",
    "    os.makedirs(f'resized_data_{image_size}')\n",
    "    os.makedirs(os.path.join(f'resized_data_{image_size}', 'train'))\n",
    "    os.makedirs(os.path.join(f'resized_data_{image_size}', 'valid'))\n",
    "\n",
    "def resize_image(data_path, name, image_size):\n",
    "    cor_file_counts = 0\n",
    "\n",
    "    new_size = (image_size, image_size)\n",
    "\n",
    "    for label in os.listdir(data_path):\n",
    "        folder_path = os.path.join(data_path, label)\n",
    "        new_folder_path = os.path.join(f'resized_data_{image_size}', name, label)\n",
    "\n",
    "        if not os.path.exists(new_folder_path):\n",
    "            os.makedirs(new_folder_path)\n",
    "        \n",
    "        for filename in os.listdir(folder_path):\n",
    "            image_path = os.path.join(folder_path, filename)\n",
    "            # filename = os.path.basename(image_path)\n",
    "            try:\n",
    "                img = Image.open(image_path)\n",
    "                img = img.resize(new_size, Image.LANCZOS)       # Image.LANCZOS : 이미지 크기 변경 시 부드럽게 변경(이미지 품질을 보존)\n",
    "                img.save(os.path.join(new_folder_path, filename))\n",
    "            except:\n",
    "                cor_file_counts += 1\n",
    "    if cor_file_counts == 0:\n",
    "        print(f\"All files are resized to {image_size}x{image_size}\")\n",
    "    else:\n",
    "        print(f\"{cor_file_counts} files are not resized to {image_size}x{image_size}\")\n",
    "\n",
    "resize_image(train_data_path, 'train', image_size)\n",
    "resize_image(test_data_path, 'valid', image_size)"
   ]
  },
  {
   "cell_type": "code",
   "execution_count": 11,
   "metadata": {},
   "outputs": [
    {
     "data": {
      "text/plain": [
       "({(64, 64): 25492}, {(64, 64): 6530})"
      ]
     },
     "execution_count": 11,
     "metadata": {},
     "output_type": "execute_result"
    }
   ],
   "source": [
    "# 이미지의 크기 확인\n",
    "resized_train_path = os.path.join(os.getcwd(), 'resized_data_64', 'train')\n",
    "resized_test_path = os.path.join(os.getcwd(), 'resized_data_64', 'valid')\n",
    "\n",
    "\n",
    "def check_image_size(data_path):\n",
    "    image_size_list = {}\n",
    "\n",
    "    for label in os.listdir(data_path):\n",
    "        folder_path = os.path.join(data_path, label)\n",
    "\n",
    "        for file_name in os.listdir(folder_path):\n",
    "            image_path = os.path.join(folder_path, file_name)\n",
    "            img = Image.open(image_path)\n",
    "            size = img.size\n",
    "            \n",
    "            if size not in image_size_list.keys():\n",
    "                image_size_list[size] = 1\n",
    "            else:\n",
    "                image_size_list[size] += 1\n",
    "\n",
    "    return image_size_list\n",
    "\n",
    "train_image_size_list = check_image_size(resized_train_path)\n",
    "test_image_size_list = check_image_size(resized_test_path)\n",
    "\n",
    "train_image_size_list, test_image_size_list"
   ]
  }
 ],
 "metadata": {
  "kernelspec": {
   "display_name": "py38",
   "language": "python",
   "name": "python3"
  },
  "language_info": {
   "codemirror_mode": {
    "name": "ipython",
    "version": 3
   },
   "file_extension": ".py",
   "mimetype": "text/x-python",
   "name": "python",
   "nbconvert_exporter": "python",
   "pygments_lexer": "ipython3",
   "version": "3.8.18"
  }
 },
 "nbformat": 4,
 "nbformat_minor": 2
}
